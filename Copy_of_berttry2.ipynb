{
  "cells": [
    {
      "cell_type": "markdown",
      "metadata": {
        "id": "view-in-github",
        "colab_type": "text"
      },
      "source": [
        "<a href=\"https://colab.research.google.com/github/norayehia/chatgpt-reviews-analyses/blob/main/Copy_of_berttry2.ipynb\" target=\"_parent\"><img src=\"https://colab.research.google.com/assets/colab-badge.svg\" alt=\"Open In Colab\"/></a>"
      ]
    },
    {
      "cell_type": "code",
      "execution_count": null,
      "metadata": {
        "colab": {
          "base_uri": "https://localhost:8080/"
        },
        "id": "iz0VjJ8Mb8Ya",
        "outputId": "0a70d7e2-b4b5-4a4e-b158-4cdfd4082f7f"
      },
      "outputs": [
        {
          "name": "stdout",
          "output_type": "stream",
          "text": [
            "Looking in indexes: https://pypi.org/simple, https://us-python.pkg.dev/colab-wheels/public/simple/\n",
            "Collecting simpletransformers\n",
            "  Downloading simpletransformers-0.63.9-py3-none-any.whl (250 kB)\n",
            "\u001b[2K     \u001b[90m━━━━━━━━━━━━━━━━━━━━━━━━━━━━━━━━━━━━━━━\u001b[0m \u001b[32m250.5/250.5 kB\u001b[0m \u001b[31m3.9 MB/s\u001b[0m eta \u001b[36m0:00:00\u001b[0m\n",
            "\u001b[?25hRequirement already satisfied: numpy in /usr/local/lib/python3.9/dist-packages (from simpletransformers) (1.22.4)\n",
            "Requirement already satisfied: requests in /usr/local/lib/python3.9/dist-packages (from simpletransformers) (2.27.1)\n",
            "Requirement already satisfied: scipy in /usr/local/lib/python3.9/dist-packages (from simpletransformers) (1.10.1)\n",
            "Collecting seqeval\n",
            "  Downloading seqeval-1.2.2.tar.gz (43 kB)\n",
            "\u001b[2K     \u001b[90m━━━━━━━━━━━━━━━━━━━━━━━━━━━━━━━━━━━━━━━━\u001b[0m \u001b[32m43.6/43.6 kB\u001b[0m \u001b[31m3.2 MB/s\u001b[0m eta \u001b[36m0:00:00\u001b[0m\n",
            "\u001b[?25h  Preparing metadata (setup.py) ... \u001b[?25l\u001b[?25hdone\n",
            "Collecting datasets\n",
            "  Downloading datasets-2.11.0-py3-none-any.whl (468 kB)\n",
            "\u001b[2K     \u001b[90m━━━━━━━━━━━━━━━━━━━━━━━━━━━━━━━━━━━━━━\u001b[0m \u001b[32m468.7/468.7 kB\u001b[0m \u001b[31m17.3 MB/s\u001b[0m eta \u001b[36m0:00:00\u001b[0m\n",
            "\u001b[?25hCollecting streamlit\n",
            "  Downloading streamlit-1.21.0-py2.py3-none-any.whl (9.7 MB)\n",
            "\u001b[2K     \u001b[90m━━━━━━━━━━━━━━━━━━━━━━━━━━━━━━━━━━━━━━━━\u001b[0m \u001b[32m9.7/9.7 MB\u001b[0m \u001b[31m12.5 MB/s\u001b[0m eta \u001b[36m0:00:00\u001b[0m\n",
            "\u001b[?25hRequirement already satisfied: tensorboard in /usr/local/lib/python3.9/dist-packages (from simpletransformers) (2.12.2)\n",
            "Requirement already satisfied: tqdm>=4.47.0 in /usr/local/lib/python3.9/dist-packages (from simpletransformers) (4.65.0)\n",
            "Collecting transformers>=4.6.0\n",
            "  Downloading transformers-4.28.1-py3-none-any.whl (7.0 MB)\n",
            "\u001b[2K     \u001b[90m━━━━━━━━━━━━━━━━━━━━━━━━━━━━━━━━━━━━━━━━\u001b[0m \u001b[32m7.0/7.0 MB\u001b[0m \u001b[31m17.9 MB/s\u001b[0m eta \u001b[36m0:00:00\u001b[0m\n",
            "\u001b[?25hCollecting sentencepiece\n",
            "  Downloading sentencepiece-0.1.98-cp39-cp39-manylinux_2_17_x86_64.manylinux2014_x86_64.whl (1.3 MB)\n",
            "\u001b[2K     \u001b[90m━━━━━━━━━━━━━━━━━━━━━━━━━━━━━━━━━━━━━━━━\u001b[0m \u001b[32m1.3/1.3 MB\u001b[0m \u001b[31m16.8 MB/s\u001b[0m eta \u001b[36m0:00:00\u001b[0m\n",
            "\u001b[?25hCollecting tokenizers\n",
            "  Downloading tokenizers-0.13.3-cp39-cp39-manylinux_2_17_x86_64.manylinux2014_x86_64.whl (7.8 MB)\n",
            "\u001b[2K     \u001b[90m━━━━━━━━━━━━━━━━━━━━━━━━━━━━━━━━━━━━━━━━\u001b[0m \u001b[32m7.8/7.8 MB\u001b[0m \u001b[31m59.7 MB/s\u001b[0m eta \u001b[36m0:00:00\u001b[0m\n",
            "\u001b[?25hRequirement already satisfied: scikit-learn in /usr/local/lib/python3.9/dist-packages (from simpletransformers) (1.2.2)\n",
            "Requirement already satisfied: pandas in /usr/local/lib/python3.9/dist-packages (from simpletransformers) (1.5.3)\n",
            "Collecting wandb>=0.10.32\n",
            "  Downloading wandb-0.15.0-py3-none-any.whl (2.0 MB)\n",
            "\u001b[2K     \u001b[90m━━━━━━━━━━━━━━━━━━━━━━━━━━━━━━━━━━━━━━━━\u001b[0m \u001b[32m2.0/2.0 MB\u001b[0m \u001b[31m17.5 MB/s\u001b[0m eta \u001b[36m0:00:00\u001b[0m\n",
            "\u001b[?25hRequirement already satisfied: regex in /usr/local/lib/python3.9/dist-packages (from simpletransformers) (2022.10.31)\n",
            "Requirement already satisfied: pyyaml>=5.1 in /usr/local/lib/python3.9/dist-packages (from transformers>=4.6.0->simpletransformers) (6.0)\n",
            "Collecting huggingface-hub<1.0,>=0.11.0\n",
            "  Downloading huggingface_hub-0.13.4-py3-none-any.whl (200 kB)\n",
            "\u001b[2K     \u001b[90m━━━━━━━━━━━━━━━━━━━━━━━━━━━━━━━━━━━━━━━\u001b[0m \u001b[32m200.1/200.1 kB\u001b[0m \u001b[31m2.6 MB/s\u001b[0m eta \u001b[36m0:00:00\u001b[0m\n",
            "\u001b[?25hRequirement already satisfied: filelock in /usr/local/lib/python3.9/dist-packages (from transformers>=4.6.0->simpletransformers) (3.11.0)\n",
            "Requirement already satisfied: packaging>=20.0 in /usr/local/lib/python3.9/dist-packages (from transformers>=4.6.0->simpletransformers) (23.1)\n",
            "Collecting setproctitle\n",
            "  Downloading setproctitle-1.3.2-cp39-cp39-manylinux_2_5_x86_64.manylinux1_x86_64.manylinux_2_17_x86_64.manylinux2014_x86_64.whl (30 kB)\n",
            "Requirement already satisfied: Click!=8.0.0,>=7.0 in /usr/local/lib/python3.9/dist-packages (from wandb>=0.10.32->simpletransformers) (8.1.3)\n",
            "Requirement already satisfied: psutil>=5.0.0 in /usr/local/lib/python3.9/dist-packages (from wandb>=0.10.32->simpletransformers) (5.9.5)\n",
            "Requirement already satisfied: appdirs>=1.4.3 in /usr/local/lib/python3.9/dist-packages (from wandb>=0.10.32->simpletransformers) (1.4.4)\n",
            "Requirement already satisfied: typing-extensions in /usr/local/lib/python3.9/dist-packages (from wandb>=0.10.32->simpletransformers) (4.5.0)\n",
            "Requirement already satisfied: setuptools in /usr/local/lib/python3.9/dist-packages (from wandb>=0.10.32->simpletransformers) (67.6.1)\n",
            "Collecting GitPython!=3.1.29,>=1.0.0\n",
            "  Downloading GitPython-3.1.31-py3-none-any.whl (184 kB)\n",
            "\u001b[2K     \u001b[90m━━━━━━━━━━━━━━━━━━━━━━━━━━━━━━━━━━━━━━━\u001b[0m \u001b[32m184.3/184.3 kB\u001b[0m \u001b[31m6.5 MB/s\u001b[0m eta \u001b[36m0:00:00\u001b[0m\n",
            "\u001b[?25hCollecting sentry-sdk>=1.0.0\n",
            "  Downloading sentry_sdk-1.20.0-py2.py3-none-any.whl (198 kB)\n",
            "\u001b[2K     \u001b[90m━━━━━━━━━━━━━━━━━━━━━━━━━━━━━━━━━━━━━━━\u001b[0m \u001b[32m198.8/198.8 kB\u001b[0m \u001b[31m5.5 MB/s\u001b[0m eta \u001b[36m0:00:00\u001b[0m\n",
            "\u001b[?25hRequirement already satisfied: protobuf!=4.21.0,<5,>=3.15.0 in /usr/local/lib/python3.9/dist-packages (from wandb>=0.10.32->simpletransformers) (3.20.3)\n",
            "Collecting docker-pycreds>=0.4.0\n",
            "  Downloading docker_pycreds-0.4.0-py2.py3-none-any.whl (9.0 kB)\n",
            "Collecting pathtools\n",
            "  Downloading pathtools-0.1.2.tar.gz (11 kB)\n",
            "  Preparing metadata (setup.py) ... \u001b[?25l\u001b[?25hdone\n",
            "Requirement already satisfied: idna<4,>=2.5 in /usr/local/lib/python3.9/dist-packages (from requests->simpletransformers) (3.4)\n",
            "Requirement already satisfied: charset-normalizer~=2.0.0 in /usr/local/lib/python3.9/dist-packages (from requests->simpletransformers) (2.0.12)\n",
            "Requirement already satisfied: urllib3<1.27,>=1.21.1 in /usr/local/lib/python3.9/dist-packages (from requests->simpletransformers) (1.26.15)\n",
            "Requirement already satisfied: certifi>=2017.4.17 in /usr/local/lib/python3.9/dist-packages (from requests->simpletransformers) (2022.12.7)\n",
            "Requirement already satisfied: pyarrow>=8.0.0 in /usr/local/lib/python3.9/dist-packages (from datasets->simpletransformers) (9.0.0)\n",
            "Collecting dill<0.3.7,>=0.3.0\n",
            "  Downloading dill-0.3.6-py3-none-any.whl (110 kB)\n",
            "\u001b[2K     \u001b[90m━━━━━━━━━━━━━━━━━━━━━━━━━━━━━━━━━━━━━━━\u001b[0m \u001b[32m110.5/110.5 kB\u001b[0m \u001b[31m5.9 MB/s\u001b[0m eta \u001b[36m0:00:00\u001b[0m\n",
            "\u001b[?25hCollecting multiprocess\n",
            "  Downloading multiprocess-0.70.14-py39-none-any.whl (132 kB)\n",
            "\u001b[2K     \u001b[90m━━━━━━━━━━━━━━━━━━━━━━━━━━━━━━━━━━━━━━\u001b[0m \u001b[32m132.9/132.9 kB\u001b[0m \u001b[31m11.5 MB/s\u001b[0m eta \u001b[36m0:00:00\u001b[0m\n",
            "\u001b[?25hCollecting xxhash\n",
            "  Downloading xxhash-3.2.0-cp39-cp39-manylinux_2_17_x86_64.manylinux2014_x86_64.whl (212 kB)\n",
            "\u001b[2K     \u001b[90m━━━━━━━━━━━━━━━━━━━━━━━━━━━━━━━━━━━━━━━\u001b[0m \u001b[32m212.2/212.2 kB\u001b[0m \u001b[31m3.7 MB/s\u001b[0m eta \u001b[36m0:00:00\u001b[0m\n",
            "\u001b[?25hCollecting aiohttp\n",
            "  Downloading aiohttp-3.8.4-cp39-cp39-manylinux_2_17_x86_64.manylinux2014_x86_64.whl (1.0 MB)\n",
            "\u001b[2K     \u001b[90m━━━━━━━━━━━━━━━━━━━━━━━━━━━━━━━━━━━━━━━━\u001b[0m \u001b[32m1.0/1.0 MB\u001b[0m \u001b[31m13.0 MB/s\u001b[0m eta \u001b[36m0:00:00\u001b[0m\n",
            "\u001b[?25hRequirement already satisfied: fsspec[http]>=2021.11.1 in /usr/local/lib/python3.9/dist-packages (from datasets->simpletransformers) (2023.4.0)\n",
            "Collecting responses<0.19\n",
            "  Downloading responses-0.18.0-py3-none-any.whl (38 kB)\n",
            "Requirement already satisfied: python-dateutil>=2.8.1 in /usr/local/lib/python3.9/dist-packages (from pandas->simpletransformers) (2.8.2)\n",
            "Requirement already satisfied: pytz>=2020.1 in /usr/local/lib/python3.9/dist-packages (from pandas->simpletransformers) (2022.7.1)\n",
            "Requirement already satisfied: threadpoolctl>=2.0.0 in /usr/local/lib/python3.9/dist-packages (from scikit-learn->simpletransformers) (3.1.0)\n",
            "Requirement already satisfied: joblib>=1.1.1 in /usr/local/lib/python3.9/dist-packages (from scikit-learn->simpletransformers) (1.2.0)\n",
            "Requirement already satisfied: pillow>=6.2.0 in /usr/local/lib/python3.9/dist-packages (from streamlit->simpletransformers) (8.4.0)\n",
            "Collecting watchdog\n",
            "  Downloading watchdog-3.0.0-py3-none-manylinux2014_x86_64.whl (82 kB)\n",
            "\u001b[2K     \u001b[90m━━━━━━━━━━━━━━━━━━━━━━━━━━━━━━━━━━━━━━━━\u001b[0m \u001b[32m82.1/82.1 kB\u001b[0m \u001b[31m1.6 MB/s\u001b[0m eta \u001b[36m0:00:00\u001b[0m\n",
            "\u001b[?25hRequirement already satisfied: altair<5,>=3.2.0 in /usr/local/lib/python3.9/dist-packages (from streamlit->simpletransformers) (4.2.2)\n",
            "Collecting validators>=0.2\n",
            "  Downloading validators-0.20.0.tar.gz (30 kB)\n",
            "  Preparing metadata (setup.py) ... \u001b[?25l\u001b[?25hdone\n",
            "Requirement already satisfied: cachetools>=4.0 in /usr/local/lib/python3.9/dist-packages (from streamlit->simpletransformers) (5.3.0)\n",
            "Requirement already satisfied: toml in /usr/local/lib/python3.9/dist-packages (from streamlit->simpletransformers) (0.10.2)\n",
            "Collecting pydeck>=0.1.dev5\n",
            "  Downloading pydeck-0.8.1b0-py2.py3-none-any.whl (4.8 MB)\n",
            "\u001b[2K     \u001b[90m━━━━━━━━━━━━━━━━━━━━━━━━━━━━━━━━━━━━━━━━\u001b[0m \u001b[32m4.8/4.8 MB\u001b[0m \u001b[31m32.6 MB/s\u001b[0m eta \u001b[36m0:00:00\u001b[0m\n",
            "\u001b[?25hRequirement already satisfied: tornado>=6.0.3 in /usr/local/lib/python3.9/dist-packages (from streamlit->simpletransformers) (6.2)\n",
            "Requirement already satisfied: importlib-metadata>=1.4 in /usr/local/lib/python3.9/dist-packages (from streamlit->simpletransformers) (6.4.1)\n",
            "Collecting blinker>=1.0.0\n",
            "  Downloading blinker-1.6.2-py3-none-any.whl (13 kB)\n",
            "Collecting pympler>=0.9\n",
            "  Downloading Pympler-1.0.1-py3-none-any.whl (164 kB)\n",
            "\u001b[2K     \u001b[90m━━━━━━━━━━━━━━━━━━━━━━━━━━━━━━━━━━━━━━━\u001b[0m \u001b[32m164.8/164.8 kB\u001b[0m \u001b[31m7.7 MB/s\u001b[0m eta \u001b[36m0:00:00\u001b[0m\n",
            "\u001b[?25hRequirement already satisfied: tzlocal>=1.1 in /usr/local/lib/python3.9/dist-packages (from streamlit->simpletransformers) (4.3)\n",
            "Requirement already satisfied: rich>=10.11.0 in /usr/local/lib/python3.9/dist-packages (from streamlit->simpletransformers) (13.3.4)\n",
            "Requirement already satisfied: wheel>=0.26 in /usr/local/lib/python3.9/dist-packages (from tensorboard->simpletransformers) (0.40.0)\n",
            "Requirement already satisfied: werkzeug>=1.0.1 in /usr/local/lib/python3.9/dist-packages (from tensorboard->simpletransformers) (2.2.3)\n",
            "Requirement already satisfied: google-auth<3,>=1.6.3 in /usr/local/lib/python3.9/dist-packages (from tensorboard->simpletransformers) (2.17.3)\n",
            "Requirement already satisfied: tensorboard-data-server<0.8.0,>=0.7.0 in /usr/local/lib/python3.9/dist-packages (from tensorboard->simpletransformers) (0.7.0)\n",
            "Requirement already satisfied: google-auth-oauthlib<1.1,>=0.5 in /usr/local/lib/python3.9/dist-packages (from tensorboard->simpletransformers) (1.0.0)\n",
            "Requirement already satisfied: tensorboard-plugin-wit>=1.6.0 in /usr/local/lib/python3.9/dist-packages (from tensorboard->simpletransformers) (1.8.1)\n",
            "Requirement already satisfied: absl-py>=0.4 in /usr/local/lib/python3.9/dist-packages (from tensorboard->simpletransformers) (1.4.0)\n",
            "Requirement already satisfied: grpcio>=1.48.2 in /usr/local/lib/python3.9/dist-packages (from tensorboard->simpletransformers) (1.53.0)\n",
            "Requirement already satisfied: markdown>=2.6.8 in /usr/local/lib/python3.9/dist-packages (from tensorboard->simpletransformers) (3.4.3)\n",
            "Requirement already satisfied: toolz in /usr/local/lib/python3.9/dist-packages (from altair<5,>=3.2.0->streamlit->simpletransformers) (0.12.0)\n",
            "Requirement already satisfied: jinja2 in /usr/local/lib/python3.9/dist-packages (from altair<5,>=3.2.0->streamlit->simpletransformers) (3.1.2)\n",
            "Requirement already satisfied: jsonschema>=3.0 in /usr/local/lib/python3.9/dist-packages (from altair<5,>=3.2.0->streamlit->simpletransformers) (4.3.3)\n",
            "Requirement already satisfied: entrypoints in /usr/local/lib/python3.9/dist-packages (from altair<5,>=3.2.0->streamlit->simpletransformers) (0.4)\n",
            "Requirement already satisfied: six>=1.4.0 in /usr/local/lib/python3.9/dist-packages (from docker-pycreds>=0.4.0->wandb>=0.10.32->simpletransformers) (1.16.0)\n",
            "Requirement already satisfied: attrs>=17.3.0 in /usr/local/lib/python3.9/dist-packages (from aiohttp->datasets->simpletransformers) (23.1.0)\n",
            "Collecting yarl<2.0,>=1.0\n",
            "  Downloading yarl-1.8.2-cp39-cp39-manylinux_2_17_x86_64.manylinux2014_x86_64.whl (264 kB)\n",
            "\u001b[2K     \u001b[90m━━━━━━━━━━━━━━━━━━━━━━━━━━━━━━━━━━━━━━\u001b[0m \u001b[32m264.6/264.6 kB\u001b[0m \u001b[31m19.6 MB/s\u001b[0m eta \u001b[36m0:00:00\u001b[0m\n",
            "\u001b[?25hCollecting async-timeout<5.0,>=4.0.0a3\n",
            "  Downloading async_timeout-4.0.2-py3-none-any.whl (5.8 kB)\n",
            "Collecting aiosignal>=1.1.2\n",
            "  Downloading aiosignal-1.3.1-py3-none-any.whl (7.6 kB)\n",
            "Collecting multidict<7.0,>=4.5\n",
            "  Downloading multidict-6.0.4-cp39-cp39-manylinux_2_17_x86_64.manylinux2014_x86_64.whl (114 kB)\n",
            "\u001b[2K     \u001b[90m━━━━━━━━━━━━━━━━━━━━━━━━━━━━━━━━━━━━━━\u001b[0m \u001b[32m114.2/114.2 kB\u001b[0m \u001b[31m11.9 MB/s\u001b[0m eta \u001b[36m0:00:00\u001b[0m\n",
            "\u001b[?25hCollecting frozenlist>=1.1.1\n",
            "  Downloading frozenlist-1.3.3-cp39-cp39-manylinux_2_5_x86_64.manylinux1_x86_64.manylinux_2_17_x86_64.manylinux2014_x86_64.whl (158 kB)\n",
            "\u001b[2K     \u001b[90m━━━━━━━━━━━━━━━━━━━━━━━━━━━━━━━━━━━━━━\u001b[0m \u001b[32m158.8/158.8 kB\u001b[0m \u001b[31m16.7 MB/s\u001b[0m eta \u001b[36m0:00:00\u001b[0m\n",
            "\u001b[?25hCollecting gitdb<5,>=4.0.1\n",
            "  Downloading gitdb-4.0.10-py3-none-any.whl (62 kB)\n",
            "\u001b[2K     \u001b[90m━━━━━━━━━━━━━━━━━━━━━━━━━━━━━━━━━━━━━━━━\u001b[0m \u001b[32m62.7/62.7 kB\u001b[0m \u001b[31m7.8 MB/s\u001b[0m eta \u001b[36m0:00:00\u001b[0m\n",
            "\u001b[?25hRequirement already satisfied: pyasn1-modules>=0.2.1 in /usr/local/lib/python3.9/dist-packages (from google-auth<3,>=1.6.3->tensorboard->simpletransformers) (0.2.8)\n",
            "Requirement already satisfied: rsa<5,>=3.1.4 in /usr/local/lib/python3.9/dist-packages (from google-auth<3,>=1.6.3->tensorboard->simpletransformers) (4.9)\n",
            "Requirement already satisfied: requests-oauthlib>=0.7.0 in /usr/local/lib/python3.9/dist-packages (from google-auth-oauthlib<1.1,>=0.5->tensorboard->simpletransformers) (1.3.1)\n",
            "Requirement already satisfied: zipp>=0.5 in /usr/local/lib/python3.9/dist-packages (from importlib-metadata>=1.4->streamlit->simpletransformers) (3.15.0)\n",
            "Requirement already satisfied: markdown-it-py<3.0.0,>=2.2.0 in /usr/local/lib/python3.9/dist-packages (from rich>=10.11.0->streamlit->simpletransformers) (2.2.0)\n",
            "Requirement already satisfied: pygments<3.0.0,>=2.13.0 in /usr/local/lib/python3.9/dist-packages (from rich>=10.11.0->streamlit->simpletransformers) (2.14.0)\n",
            "Requirement already satisfied: pytz-deprecation-shim in /usr/local/lib/python3.9/dist-packages (from tzlocal>=1.1->streamlit->simpletransformers) (0.1.0.post0)\n",
            "Requirement already satisfied: decorator>=3.4.0 in /usr/local/lib/python3.9/dist-packages (from validators>=0.2->streamlit->simpletransformers) (4.4.2)\n",
            "Requirement already satisfied: MarkupSafe>=2.1.1 in /usr/local/lib/python3.9/dist-packages (from werkzeug>=1.0.1->tensorboard->simpletransformers) (2.1.2)\n",
            "Collecting smmap<6,>=3.0.1\n",
            "  Downloading smmap-5.0.0-py3-none-any.whl (24 kB)\n",
            "Requirement already satisfied: pyrsistent!=0.17.0,!=0.17.1,!=0.17.2,>=0.14.0 in /usr/local/lib/python3.9/dist-packages (from jsonschema>=3.0->altair<5,>=3.2.0->streamlit->simpletransformers) (0.19.3)\n",
            "Requirement already satisfied: mdurl~=0.1 in /usr/local/lib/python3.9/dist-packages (from markdown-it-py<3.0.0,>=2.2.0->rich>=10.11.0->streamlit->simpletransformers) (0.1.2)\n",
            "Requirement already satisfied: pyasn1<0.5.0,>=0.4.6 in /usr/local/lib/python3.9/dist-packages (from pyasn1-modules>=0.2.1->google-auth<3,>=1.6.3->tensorboard->simpletransformers) (0.4.8)\n",
            "Requirement already satisfied: oauthlib>=3.0.0 in /usr/local/lib/python3.9/dist-packages (from requests-oauthlib>=0.7.0->google-auth-oauthlib<1.1,>=0.5->tensorboard->simpletransformers) (3.2.2)\n",
            "Requirement already satisfied: tzdata in /usr/local/lib/python3.9/dist-packages (from pytz-deprecation-shim->tzlocal>=1.1->streamlit->simpletransformers) (2023.3)\n",
            "Building wheels for collected packages: seqeval, validators, pathtools\n",
            "  Building wheel for seqeval (setup.py) ... \u001b[?25l\u001b[?25hdone\n",
            "  Created wheel for seqeval: filename=seqeval-1.2.2-py3-none-any.whl size=16180 sha256=21c1d7b0f173d9d5e99f37c9a41dc8fa9fdc70c9ff7a5689119c9fc9c61e90ff\n",
            "  Stored in directory: /root/.cache/pip/wheels/e2/a5/92/2c80d1928733611c2747a9820e1324a6835524d9411510c142\n",
            "  Building wheel for validators (setup.py) ... \u001b[?25l\u001b[?25hdone\n",
            "  Created wheel for validators: filename=validators-0.20.0-py3-none-any.whl size=19579 sha256=2e56caeb96923c01684ca8040d8b278eaa78e9483491eaa7c8cf4d0f34feb46b\n",
            "  Stored in directory: /root/.cache/pip/wheels/2d/f0/a8/1094fca7a7e5d0d12ff56e0c64675d72aa5cc81a5fc200e849\n",
            "  Building wheel for pathtools (setup.py) ... \u001b[?25l\u001b[?25hdone\n",
            "  Created wheel for pathtools: filename=pathtools-0.1.2-py3-none-any.whl size=8807 sha256=de479dd7d09653c6d7bd2897a5f2a58d7a8c1b579b005d878f4cc3d0ea45aa60\n",
            "  Stored in directory: /root/.cache/pip/wheels/b7/0a/67/ada2a22079218c75a88361c0782855cc72aebc4d18d0289d05\n",
            "Successfully built seqeval validators pathtools\n",
            "Installing collected packages: tokenizers, sentencepiece, pathtools, xxhash, watchdog, validators, smmap, setproctitle, sentry-sdk, pympler, multidict, frozenlist, docker-pycreds, dill, blinker, async-timeout, yarl, responses, pydeck, multiprocess, huggingface-hub, gitdb, aiosignal, transformers, seqeval, GitPython, aiohttp, wandb, streamlit, datasets, simpletransformers\n",
            "Successfully installed GitPython-3.1.31 aiohttp-3.8.4 aiosignal-1.3.1 async-timeout-4.0.2 blinker-1.6.2 datasets-2.11.0 dill-0.3.6 docker-pycreds-0.4.0 frozenlist-1.3.3 gitdb-4.0.10 huggingface-hub-0.13.4 multidict-6.0.4 multiprocess-0.70.14 pathtools-0.1.2 pydeck-0.8.1b0 pympler-1.0.1 responses-0.18.0 sentencepiece-0.1.98 sentry-sdk-1.20.0 seqeval-1.2.2 setproctitle-1.3.2 simpletransformers-0.63.9 smmap-5.0.0 streamlit-1.21.0 tokenizers-0.13.3 transformers-4.28.1 validators-0.20.0 wandb-0.15.0 watchdog-3.0.0 xxhash-3.2.0 yarl-1.8.2\n"
          ]
        }
      ],
      "source": [
        "!pip install simpletransformers"
      ]
    },
    {
      "cell_type": "code",
      "execution_count": null,
      "metadata": {
        "colab": {
          "base_uri": "https://localhost:8080/"
        },
        "id": "Ka6eT2z6b_Np",
        "outputId": "ece28975-a185-48b3-88b3-c0c80fe5dd7c"
      },
      "outputs": [
        {
          "name": "stdout",
          "output_type": "stream",
          "text": [
            "Looking in indexes: https://pypi.org/simple, https://us-python.pkg.dev/colab-wheels/public/simple/\n",
            "Requirement already satisfied: torchvision in /usr/local/lib/python3.9/dist-packages (0.15.1+cu118)\n",
            "Requirement already satisfied: pillow!=8.3.*,>=5.3.0 in /usr/local/lib/python3.9/dist-packages (from torchvision) (8.4.0)\n",
            "Requirement already satisfied: requests in /usr/local/lib/python3.9/dist-packages (from torchvision) (2.27.1)\n",
            "Requirement already satisfied: numpy in /usr/local/lib/python3.9/dist-packages (from torchvision) (1.22.4)\n",
            "Requirement already satisfied: torch==2.0.0 in /usr/local/lib/python3.9/dist-packages (from torchvision) (2.0.0+cu118)\n",
            "Requirement already satisfied: sympy in /usr/local/lib/python3.9/dist-packages (from torch==2.0.0->torchvision) (1.11.1)\n",
            "Requirement already satisfied: networkx in /usr/local/lib/python3.9/dist-packages (from torch==2.0.0->torchvision) (3.1)\n",
            "Requirement already satisfied: triton==2.0.0 in /usr/local/lib/python3.9/dist-packages (from torch==2.0.0->torchvision) (2.0.0)\n",
            "Requirement already satisfied: typing-extensions in /usr/local/lib/python3.9/dist-packages (from torch==2.0.0->torchvision) (4.5.0)\n",
            "Requirement already satisfied: jinja2 in /usr/local/lib/python3.9/dist-packages (from torch==2.0.0->torchvision) (3.1.2)\n",
            "Requirement already satisfied: filelock in /usr/local/lib/python3.9/dist-packages (from torch==2.0.0->torchvision) (3.11.0)\n",
            "Requirement already satisfied: lit in /usr/local/lib/python3.9/dist-packages (from triton==2.0.0->torch==2.0.0->torchvision) (16.0.1)\n",
            "Requirement already satisfied: cmake in /usr/local/lib/python3.9/dist-packages (from triton==2.0.0->torch==2.0.0->torchvision) (3.25.2)\n",
            "Requirement already satisfied: idna<4,>=2.5 in /usr/local/lib/python3.9/dist-packages (from requests->torchvision) (3.4)\n",
            "Requirement already satisfied: urllib3<1.27,>=1.21.1 in /usr/local/lib/python3.9/dist-packages (from requests->torchvision) (1.26.15)\n",
            "Requirement already satisfied: charset-normalizer~=2.0.0 in /usr/local/lib/python3.9/dist-packages (from requests->torchvision) (2.0.12)\n",
            "Requirement already satisfied: certifi>=2017.4.17 in /usr/local/lib/python3.9/dist-packages (from requests->torchvision) (2022.12.7)\n",
            "Requirement already satisfied: MarkupSafe>=2.0 in /usr/local/lib/python3.9/dist-packages (from jinja2->torch==2.0.0->torchvision) (2.1.2)\n",
            "Requirement already satisfied: mpmath>=0.19 in /usr/local/lib/python3.9/dist-packages (from sympy->torch==2.0.0->torchvision) (1.3.0)\n"
          ]
        }
      ],
      "source": [
        "!pip install torchvision"
      ]
    },
    {
      "cell_type": "code",
      "execution_count": null,
      "metadata": {
        "colab": {
          "base_uri": "https://localhost:8080/"
        },
        "id": "g7MJhW3ScDwZ",
        "outputId": "a5247c5b-dc82-4c41-8b46-a6d62c65f129"
      },
      "outputs": [
        {
          "name": "stdout",
          "output_type": "stream",
          "text": [
            "Mounted at /content/drive\n"
          ]
        }
      ],
      "source": [
        "from google.colab import drive\n",
        "drive.mount('/content/drive')"
      ]
    },
    {
      "cell_type": "code",
      "execution_count": null,
      "metadata": {
        "id": "eTCXHvsCcE6d"
      },
      "outputs": [],
      "source": [
        "import numpy as np\n",
        "from numpy import savetxt, asarray\n",
        "import pandas as pd\n",
        "from IPython.display import display\n",
        "import seaborn as sns\n",
        "from scipy import stats\n",
        "import re\n",
        "import string\n",
        "import random\n",
        "\n",
        "# MATPLOTLIB\n",
        "import matplotlib.pyplot as plt\n",
        "from matplotlib.pyplot import figure\n",
        "\n",
        "# SKLEARN\n",
        "import sklearn\n",
        "from sklearn.utils import shuffle\n",
        "from sklearn.model_selection import train_test_split\n",
        "\n",
        "# NLTK\n",
        "import nltk\n",
        "from nltk.tokenize import WordPunctTokenizer, RegexpTokenizer\n",
        "from nltk.stem.porter import PorterStemmer\n",
        "from nltk.corpus import stopwords\n",
        "\n",
        "seed = np.random.RandomState(126)"
      ]
    },
    {
      "cell_type": "code",
      "execution_count": null,
      "metadata": {
        "id": "jP9Uz6H2dYSr"
      },
      "outputs": [],
      "source": [
        "import torch\n",
        "import torchvision"
      ]
    },
    {
      "cell_type": "code",
      "execution_count": null,
      "metadata": {
        "id": "jBuAUtZqdZLb"
      },
      "outputs": [],
      "source": [
        "from simpletransformers.classification import ClassificationModel"
      ]
    },
    {
      "cell_type": "code",
      "execution_count": null,
      "metadata": {
        "colab": {
          "base_uri": "https://localhost:8080/"
        },
        "id": "Uftpdt6-cJ6C",
        "outputId": "e235e214-3432-4542-d9b1-b965a7b3b34b"
      },
      "outputs": [
        {
          "data": {
            "text/plain": [
              "<bound method NDFrame.head of         Unnamed: 0                                             tweets   labels\n",
              "0                0  ChatGPT: Optimizing Language Models for Dialog...  neutral\n",
              "1                1  Try talking with ChatGPT, our new AI system wh...     good\n",
              "2                2  ChatGPT: Optimizing Language Models for Dialog...  neutral\n",
              "3                3  THRILLED to share that ChatGPT, our new model ...     good\n",
              "4                4  As of 2 minutes ago, @OpenAI released their ne...      bad\n",
              "...            ...                                                ...      ...\n",
              "219289      219289  Other Software Projects Are Now Trying to Repl...      bad\n",
              "219290      219290  I asked #ChatGPT to write a #NYE Joke for SEOs...     good\n",
              "219291      219291  chatgpt is being disassembled until it can onl...      bad\n",
              "219292      219292  2023 predictions by #chatGPT. Nothing really s...      bad\n",
              "219293      219293   From ChatGPT, neat stuff https://t.co/qjjUF2Z2m0  neutral\n",
              "\n",
              "[219294 rows x 3 columns]>"
            ]
          },
          "execution_count": 9,
          "metadata": {},
          "output_type": "execute_result"
        }
      ],
      "source": [
        "df= pd.read_csv(\"/content/drive/MyDrive/help/research/aireserchnlp/chatgpt/chdata/file.csv\")\n",
        "df.head"
      ]
    },
    {
      "cell_type": "code",
      "execution_count": null,
      "metadata": {
        "colab": {
          "base_uri": "https://localhost:8080/"
        },
        "id": "-b6t6JtqdBpo",
        "outputId": "42f59bbe-1a24-44a5-da02-87dd5bc58b05"
      },
      "outputs": [
        {
          "name": "stdout",
          "output_type": "stream",
          "text": [
            "<class 'pandas.core.frame.DataFrame'>\n",
            "Int64Index: 217622 entries, 0 to 219293\n",
            "Data columns (total 3 columns):\n",
            " #   Column      Non-Null Count   Dtype \n",
            "---  ------      --------------   ----- \n",
            " 0   Unnamed: 0  217622 non-null  int64 \n",
            " 1   tweets      217622 non-null  object\n",
            " 2   labels      217622 non-null  object\n",
            "dtypes: int64(1), object(2)\n",
            "memory usage: 6.6+ MB\n"
          ]
        }
      ],
      "source": [
        "df.drop_duplicates(subset=['tweets'],keep='first',inplace=True)\n",
        "df.info()"
      ]
    },
    {
      "cell_type": "code",
      "execution_count": null,
      "metadata": {
        "id": "LNbiHrI1XMCr"
      },
      "outputs": [],
      "source": [
        "df['sentiment']=df['labels']"
      ]
    },
    {
      "cell_type": "code",
      "execution_count": null,
      "metadata": {
        "colab": {
          "base_uri": "https://localhost:8080/"
        },
        "id": "zsD9NVkKl3W4",
        "outputId": "10d05eab-231a-480d-e66c-512e4c9de64c"
      },
      "outputs": [
        {
          "data": {
            "text/plain": [
              "array([2, 1, 0])"
            ]
          },
          "execution_count": 12,
          "metadata": {},
          "output_type": "execute_result"
        }
      ],
      "source": [
        "# Import label encoder\n",
        "from sklearn import preprocessing\n",
        "\n",
        "# label_encoder object knows\n",
        "# how to understand word labels.\n",
        "label_encoder = preprocessing.LabelEncoder()\n",
        "\n",
        "# Encode labels in column 'species'.\n",
        "df['sentiment']= label_encoder.fit_transform(df['sentiment'])\n",
        "\n",
        "df['sentiment'].unique()\n"
      ]
    },
    {
      "cell_type": "markdown",
      "metadata": {
        "id": "Da45uhO1l3pI"
      },
      "source": [
        "#split train and val"
      ]
    },
    {
      "cell_type": "code",
      "execution_count": null,
      "metadata": {
        "id": "uIL9l8-SlKEl"
      },
      "outputs": [],
      "source": [
        "df_0 = df[df.sentiment == 0].sample(5300)\n",
        "df_1 = df[df.sentiment == 1].sample(5300)\n",
        "df_2 = df[df.sentiment == 2].sample(5300)\n",
        "\n",
        "train_df = pd.concat([df_0, df_1, df_2])\n",
        "\n",
        "train_df = shuffle(train_df)"
      ]
    },
    {
      "cell_type": "code",
      "execution_count": null,
      "metadata": {
        "id": "pQO74FQWlLBh"
      },
      "outputs": [],
      "source": [
        "df_0_ = df[df.sentiment == 0].sample(265)\n",
        "df_1_ = df[df.sentiment == 1].sample(265)\n",
        "df_2_ = df[df.sentiment == 2].sample(265)\n",
        "\n",
        "eval_df = pd.concat([df_0_, df_1_, df_2_])\n",
        "\n",
        "eval_df = shuffle(eval_df)"
      ]
    },
    {
      "cell_type": "code",
      "execution_count": null,
      "metadata": {
        "id": "MVF6WwwXlN0x"
      },
      "outputs": [],
      "source": [
        "Train = pd.DataFrame({\n",
        "    'text': train_df['tweets'].replace(r'\\n', ' ', regex=True),\n",
        "    'label': train_df['sentiment']\n",
        "})\n",
        "\n",
        "Eval = pd.DataFrame({\n",
        "    'text': eval_df['tweets'].replace(r'\\n', ' ', regex=True),\n",
        "    'label': eval_df['sentiment']\n",
        "})"
      ]
    },
    {
      "cell_type": "markdown",
      "metadata": {
        "id": "Zn7ti5ZFnLQo"
      },
      "source": [
        "The code you provided uses the BERT-base-cased pre-trained model. BERT-base is one of two pre-trained models released by Google and is a smaller version compared to BERT-large. BERT-base has 12 transformer blocks, 110 million parameters, and is trained on a corpus of 3.3 billion words. BERT-large, on the other hand, has 24 transformer blocks and 340 million parameters, and is trained on a corpus of 33 billion words.\n",
        "\n",
        "The architecture of BERT (Bidirectional Encoder Representations from Transformers) is based on the transformer architecture introduced in the paper \"Attention is All You Need\" by Vaswani et al. (2017). BERT is a deep bidirectional transformer encoder, which means it uses a multi-layer transformer to encode the input text in both directions (left-to-right and right-to-left). BERT also uses a masked language modeling (MLM) objective during pre-training to predict randomly masked tokens in the input text. The MLM objective helps BERT learn contextual representations of words that capture their meaning based on their surrounding context.\n",
        "\n",
        "In addition to the MLM objective, BERT also uses a next sentence prediction (NSP) objective during pre-training. The NSP objective involves predicting whether two input sentences follow each other in the original text or not. The NSP objective helps BERT learn the relationships between different sentences and improve its ability to perform tasks such as question answering and text classification.\n",
        "\n",
        "Overall, the architecture of BERT, with its bidirectional transformer encoder and pre-training objectives, has proven to be a powerful tool for natural language processing tasks and has achieved state-of-the-art results on various benchmarks."
      ]
    },
    {
      "cell_type": "code",
      "execution_count": null,
      "metadata": {
        "colab": {
          "base_uri": "https://localhost:8080/",
          "height": 284,
          "referenced_widgets": [
            "6d3c259bb2a344e5b811c7b9d469f7e4",
            "9cf5f9cbc2bb4155850e7ae556dc633f",
            "01f0223dd4094c9792523fe9c0a7ebb3",
            "59446ac9a79949c89d9d57906d1ed4d0",
            "f56f272a704d4d8090e9daa6b9b5ae4d",
            "838a750d6af146bd95a2b92820ec3e24",
            "f38e3f2f9d6f4688810e6e7ce02b1e62",
            "25c8d13471024c15af0b80269c4bf2e8",
            "9147d74cbec443828b0e5dd61cdc04e5",
            "59da23e74f8c425fa2c89cc6a3c5f48a",
            "fb1b0a2e7a8947d28c70906ccf48b365",
            "e1870bf48ba8402a883bc29ed6b7ab50",
            "08ebb5d9872e42a7b24a27ebce0a61c3",
            "2e5a7bf725b64efaa1e29bdecf8b87b0",
            "c9be6e9a0e8d4f1aa13b8114f7b6225b",
            "82a3f81ff35d443d8db003221ab4458b",
            "ec91d1b9b0134e04a4662952b0c77cfc",
            "f5fcf84ef8a44937b2c42ccc097d4bf4",
            "a858127035394199b7284d11a8bf9795",
            "c3bfd75ce0cb492c916d8e2659fa66ff",
            "bd9b25fa673e4afaa4a7049d2916eba0",
            "10cb66121eb9453caa0fa82759716896",
            "6788b0d3575546d4a12e86b8e7f97b09",
            "44ea5c29dd8e4cac9912e79b14795391",
            "4f5a1248e2064fd0ae6bc9243b193b2c",
            "9eaeba2390d847a6aaf7bf7d87cd7cb6",
            "0e053187d6f649b0889adfa19dbd565b",
            "d3bd5345f8434fb7a96d2ca47becb676",
            "bb80c63ace034041b80b8b63f542c3de",
            "682dd6d545bc4889a6918c6a24a98fc4",
            "3f734386da6240b599dde470fce923e6",
            "9f9546d8ae12463bb6cd34e7eb2f28f6",
            "a8ac23230ba540a5a6d7c854291ed230",
            "2d57551a4d14443e98c64f1420d4a7b6",
            "74a81a092a6c4ca3973fa1b4cdfee19a",
            "38b90e51a6e747a4993009b8228a1ac9",
            "964ec2b3b75b4beba9a3deb33316dd6e",
            "1a587de52eba4b319d854a0c41a0b5b8",
            "503fa53803cd4138b392b418e987a20a",
            "f6a875201dae461d8751024238add018",
            "025b08b3e3c947d8bbd10d595b76b2a1",
            "938ad1045cab4b75aae87e5f8ef96e23",
            "ad278002623d409c9395de1571eb247a",
            "a3359eb826da4106867a708fb24af0a4",
            "302cbd3b05624413b25b8f55b0090264",
            "38709ea2643b49bc990c431e180c286f",
            "0c56a82c5b284be7b30fdcaa7392c63f",
            "81144ddc0ffb4d919e76ece4d91aa4fa",
            "027d67ba51d243eba16ad210dd2c5cff",
            "851ebfd1f16d4cf0af38c5b4e257ca37",
            "45b2afb744da452997c8e2b3475c28d7",
            "c69a4ffbb2d447b5a48f8927b6de1024",
            "db9e92b886b44a93a0f0f55ba646febc",
            "2ffa27cba4014fd48b3c9166e92d5a85",
            "796080b991ad4792866f088d1f75a6ff"
          ]
        },
        "id": "O14SZMoTdVNz",
        "outputId": "9f52822f-397b-4e7e-996a-a4cb51c0b830"
      },
      "outputs": [
        {
          "data": {
            "application/vnd.jupyter.widget-view+json": {
              "model_id": "6d3c259bb2a344e5b811c7b9d469f7e4",
              "version_major": 2,
              "version_minor": 0
            },
            "text/plain": [
              "Downloading (…)lve/main/config.json:   0%|          | 0.00/570 [00:00<?, ?B/s]"
            ]
          },
          "metadata": {},
          "output_type": "display_data"
        },
        {
          "data": {
            "application/vnd.jupyter.widget-view+json": {
              "model_id": "e1870bf48ba8402a883bc29ed6b7ab50",
              "version_major": 2,
              "version_minor": 0
            },
            "text/plain": [
              "Downloading pytorch_model.bin:   0%|          | 0.00/436M [00:00<?, ?B/s]"
            ]
          },
          "metadata": {},
          "output_type": "display_data"
        },
        {
          "name": "stderr",
          "output_type": "stream",
          "text": [
            "Some weights of the model checkpoint at bert-base-cased were not used when initializing BertForSequenceClassification: ['cls.seq_relationship.bias', 'cls.seq_relationship.weight', 'cls.predictions.transform.dense.bias', 'cls.predictions.transform.LayerNorm.weight', 'cls.predictions.transform.LayerNorm.bias', 'cls.predictions.decoder.weight', 'cls.predictions.transform.dense.weight', 'cls.predictions.bias']\n",
            "- This IS expected if you are initializing BertForSequenceClassification from the checkpoint of a model trained on another task or with another architecture (e.g. initializing a BertForSequenceClassification model from a BertForPreTraining model).\n",
            "- This IS NOT expected if you are initializing BertForSequenceClassification from the checkpoint of a model that you expect to be exactly identical (initializing a BertForSequenceClassification model from a BertForSequenceClassification model).\n",
            "Some weights of BertForSequenceClassification were not initialized from the model checkpoint at bert-base-cased and are newly initialized: ['classifier.bias', 'classifier.weight']\n",
            "You should probably TRAIN this model on a down-stream task to be able to use it for predictions and inference.\n"
          ]
        },
        {
          "data": {
            "application/vnd.jupyter.widget-view+json": {
              "model_id": "6788b0d3575546d4a12e86b8e7f97b09",
              "version_major": 2,
              "version_minor": 0
            },
            "text/plain": [
              "Downloading (…)okenizer_config.json:   0%|          | 0.00/29.0 [00:00<?, ?B/s]"
            ]
          },
          "metadata": {},
          "output_type": "display_data"
        },
        {
          "data": {
            "application/vnd.jupyter.widget-view+json": {
              "model_id": "2d57551a4d14443e98c64f1420d4a7b6",
              "version_major": 2,
              "version_minor": 0
            },
            "text/plain": [
              "Downloading (…)solve/main/vocab.txt:   0%|          | 0.00/213k [00:00<?, ?B/s]"
            ]
          },
          "metadata": {},
          "output_type": "display_data"
        },
        {
          "data": {
            "application/vnd.jupyter.widget-view+json": {
              "model_id": "302cbd3b05624413b25b8f55b0090264",
              "version_major": 2,
              "version_minor": 0
            },
            "text/plain": [
              "Downloading (…)/main/tokenizer.json:   0%|          | 0.00/436k [00:00<?, ?B/s]"
            ]
          },
          "metadata": {},
          "output_type": "display_data"
        }
      ],
      "source": [
        "model = ClassificationModel('bert', 'bert-base-cased', num_labels=3, args={'reprocess_input_data': True, 'overwrite_output_dir': True},use_cuda=False)"
      ]
    },
    {
      "cell_type": "code",
      "execution_count": null,
      "metadata": {
        "colab": {
          "background_save": true,
          "base_uri": "https://localhost:8080/",
          "height": 168,
          "referenced_widgets": [
            "202c14c912774deeab162c4d0b5eec25",
            "1b075c9fccf64fd9a8bb170b75b22837",
            "bf4efd31d1af4960afbec9d3eff84e88",
            "34935ec4d4c348498287491172486ca2",
            "41dbf53f8ac242e084b7bb89824605dd",
            "3c8cd75c2f66482da1663e395ba5a654",
            "b94ea46bb2d94e2e8e9c7b4abf781612",
            "b276ab00392440d7ae256b72fa6f6b88",
            "85c24522e95c4546ad355c89514de536",
            "4781deecc0d040428d1fa6ae5075d15d",
            "1981bfbb4e4147818a913cb825052aea",
            "07a234702aa1496a89772540040f5a29",
            "7f88be808c95440794bc949b01485891",
            "129cd6ce3adc4802aadaab70f64e32a8",
            "7d2bd47f491b487f85ee719e000a5ac4",
            "c77d9c358f644c939959b17896634993",
            "5577b177b5c54bcbafd8cd7a6ef2b004",
            "6bbbd78c977f46cd984a2ad2b67050dd",
            "031ef01861414236b24b0b2ac09a08e0",
            "207fdfd3d42940f39e5a3fa0024d8a7c",
            "ae1b0fd600994246a4185b9dace6337b",
            "507786644e0241b4a69ff7742286aea5",
            "49b7e92301ad42a0a7ff9e0fbd48b679",
            "f3f3c09eec174c62a09baffa2b196c93",
            "8bbd7317c091412daf70ced4d3cb931c",
            "c4cb20fe8ed241818af3a69a78b23643",
            "27a484668c2a43de85b113d16e5e31ca",
            "28487c3b419d48cfab1b8ff34f10adc9",
            "eb0a95021be4444ba16b48f808a7ab97",
            "5c0ec9f83a7d4a36a6a4853baf835fa7",
            "d1e97e6be31a4f7db24cbb73a9a5e0ef",
            "53814c29d4c44650ad4fbd999bfc78b9",
            "b5672f4388ab4f8ebd9bc5d5b84a6315"
          ]
        },
        "id": "wQyTfKQIlTVx",
        "outputId": "7cb2bd44-cf9a-4c33-bd7e-c2b7090a2870"
      },
      "outputs": [
        {
          "name": "stderr",
          "output_type": "stream",
          "text": [
            "/usr/local/lib/python3.9/dist-packages/simpletransformers/classification/classification_model.py:612: UserWarning: Dataframe headers not specified. Falling back to using column 0 as text and column 1 as labels.\n",
            "  warnings.warn(\n"
          ]
        },
        {
          "data": {
            "application/vnd.jupyter.widget-view+json": {
              "model_id": "202c14c912774deeab162c4d0b5eec25",
              "version_major": 2,
              "version_minor": 0
            },
            "text/plain": [
              "  0%|          | 0/15900 [00:00<?, ?it/s]"
            ]
          },
          "metadata": {},
          "output_type": "display_data"
        },
        {
          "data": {
            "application/vnd.jupyter.widget-view+json": {
              "model_id": "07a234702aa1496a89772540040f5a29",
              "version_major": 2,
              "version_minor": 0
            },
            "text/plain": [
              "Epoch:   0%|          | 0/1 [00:00<?, ?it/s]"
            ]
          },
          "metadata": {},
          "output_type": "display_data"
        },
        {
          "data": {
            "application/vnd.jupyter.widget-view+json": {
              "model_id": "49b7e92301ad42a0a7ff9e0fbd48b679",
              "version_major": 2,
              "version_minor": 0
            },
            "text/plain": [
              "Running Epoch 0 of 1:   0%|          | 0/1988 [00:00<?, ?it/s]"
            ]
          },
          "metadata": {},
          "output_type": "display_data"
        },
        {
          "data": {
            "text/plain": [
              "(1988, 0.6611282230622811)"
            ]
          },
          "execution_count": 18,
          "metadata": {},
          "output_type": "execute_result"
        }
      ],
      "source": [
        "model.train_model(Train)"
      ]
    },
    {
      "cell_type": "markdown",
      "metadata": {
        "id": "PqkW2ZR_Yu_j"
      },
      "source": [
        "https://www.geeksforgeeks.org/ml-label-encoding-of-datasets-in-python/"
      ]
    },
    {
      "cell_type": "code",
      "execution_count": null,
      "metadata": {
        "id": "XUcc_xe0voGR"
      },
      "outputs": [],
      "source": [
        "# Save the model\n",
        "model.save_model('/content/drive/MyDrive/help/workong remote/mlarchive/data/new/chmodel')"
      ]
    },
    {
      "cell_type": "code",
      "execution_count": null,
      "metadata": {
        "id": "c3YK2amkdfVy",
        "colab": {
          "base_uri": "https://localhost:8080/",
          "height": 106,
          "referenced_widgets": [
            "3866d2244a9745388a6d6b332ee427b8",
            "749718bd7c1c4f0580a89c48be34a4c4"
          ]
        },
        "outputId": "a9147c2b-e08b-4c04-f5e9-07d0f69c368c"
      },
      "outputs": [
        {
          "metadata": {
            "tags": null
          },
          "name": "stderr",
          "output_type": "stream",
          "text": [
            "/usr/local/lib/python3.9/dist-packages/simpletransformers/classification/classification_model.py:1454: UserWarning: Dataframe headers not specified. Falling back to using column 0 as text and column 1 as labels.\n",
            "  warnings.warn(\n"
          ]
        },
        {
          "data": {
            "application/vnd.jupyter.widget-view+json": {
              "model_id": "3866d2244a9745388a6d6b332ee427b8",
              "version_major": 2,
              "version_minor": 0
            },
            "text/plain": [
              "  0%|          | 0/795 [00:00<?, ?it/s]"
            ]
          },
          "metadata": {},
          "output_type": "display_data"
        },
        {
          "data": {
            "application/vnd.jupyter.widget-view+json": {
              "model_id": "749718bd7c1c4f0580a89c48be34a4c4",
              "version_major": 2,
              "version_minor": 0
            },
            "text/plain": [
              "Running Evaluation:   0%|          | 0/100 [00:00<?, ?it/s]"
            ]
          },
          "metadata": {},
          "output_type": "display_data"
        }
      ],
      "source": [
        "result, model_outputs, wrong_predictions = model.eval_model(Eval)"
      ]
    },
    {
      "cell_type": "code",
      "source": [
        "wrong_predictions"
      ],
      "metadata": {
        "colab": {
          "base_uri": "https://localhost:8080/"
        },
        "id": "6lBzouttspCe",
        "outputId": "d264a7e9-d1c0-4a4b-c7a6-b69a2d05bef5"
      },
      "execution_count": null,
      "outputs": [
        {
          "output_type": "execute_result",
          "data": {
            "text/plain": [
              "[{'guid': 0, 'text_a': 'Just messing around with ChatGPT. I’ve never seen this level of creativity from an AI https://t.co/niZ8bob8UX', 'text_b': None, 'label': 2},\n",
              " {'guid': 13, 'text_a': 'Just helped a friend to choose a thesis topic in Data science using chatGPT,where 3 topics were to be submitted along with research paper links and datasets, tomorrow is last date. Hardly took 2 hours.\\\\nKnow how to ask questions,little bit of prompts and your are on AI bandwagon', 'text_b': None, 'label': 2},\n",
              " {'guid': 14, 'text_a': \"Wow, ChatGPT for Chrome Extension hit 10,000 installs in 5 days 🤯🤯🤯\\\\nSee how much Ben's Bites &amp; ProductHunt drove the traffic!\\\\n\\\\nIt took us a year to hit 20,000 Chrome Extension installs at @_Glasp, so you see how crazy it is!\\\\n\\\\n❤️Acknowledge: @bentossell @ProductHunt &amp; @OpenAI https://t.co/1B8WGfUn3S https://t.co/K8oneYREmW\", 'text_b': None, 'label': 2},\n",
              " {'guid': 15, 'text_a': 'Ask anything on twitter and ChatGpt app is there to provide the most human like answers 😂😂', 'text_b': None, 'label': 2},\n",
              " {'guid': 19, 'text_a': 'Released GPT-X: 1.3.0 ✅🎉A Chrome extension that integrates ChatGPT in Google search to improve browsing experience.\\\\n\\\\nCredit: @OK120599 ⬆️\\\\nCheck the thread 🧵for latest feature updates:\\\\n\\\\n#ChatGPT @ExtensionIdeas \\\\n\\\\nhttps://t.co/0RlfcKL2wi', 'text_b': None, 'label': 2},\n",
              " {'guid': 49, 'text_a': 'I broke ChatGPT! 🤖🔇🤯\\\\n\\\\nQuery: Can you provide an example of an NFT project that has any utility or a viable business model? https://t.co/cW1Lb39oCj', 'text_b': None, 'label': 0},\n",
              " {'guid': 55, 'text_a': 'ChatGPT is a game changing technology that has bought a feeling of a big product launch which could really change how we live / work in the future #AI #ChatGPT #OpenAI', 'text_b': None, 'label': 2},\n",
              " {'guid': 57, 'text_a': \"Well, I'll be darned. 🐷 #ChatGPT #storytelling https://t.co/lVtjLnp4Nf\", 'text_b': None, 'label': 2},\n",
              " {'guid': 71, 'text_a': 'Prompt: \\\\n\\\\nWrite \"The Night Before Christmas\" as a startup founder on the entrepreneurial journey, mentioning Founder\\'s Network as inspiring us.\\\\n\\\\nhttps://t.co/Djj7wwTykR\\\\n\\\\n@foundersnetwork #ChatGPT', 'text_b': None, 'label': 2},\n",
              " {'guid': 76, 'text_a': \"Folks, let's try to build an aligned AGI together. \\\\nIt's easy to participate in alignment. \\\\nWhen #ChatGPT gives a biased answer, please click the thumbs down. https://t.co/BWVJRb2uIw\", 'text_b': None, 'label': 2},\n",
              " {'guid': 79, 'text_a': 'Chatgpt is around for some weeks now and looks like everybody likes it and have been using it without any problem. \\\\nMy question is what happened to galectica? Isn’t that supposed to do similar work? \\\\n#ChatGPT #galectica #meta #openai #gpt', 'text_b': None, 'label': 2},\n",
              " {'guid': 86, 'text_a': 'https://t.co/N33o7cMMvc Hooray.', 'text_b': None, 'label': 1},\n",
              " {'guid': 90, 'text_a': 'Finally found a question chatGPT can at lest understand:\\\\n\\\\nWhich is better, Dorian mode or Phrygian mode?\\\\n\\\\nIt is difficult to say which mode is better, as it ultimately depends on the context and the personal preferences of the musician. Both Dorian mode and Phrygian mode are...', 'text_b': None, 'label': 1},\n",
              " {'guid': 94, 'text_a': 'Looks like ChatGPT needs to know more about ChatGPT \\\\n#chatgpt https://t.co/66ALw7yBIj', 'text_b': None, 'label': 2},\n",
              " {'guid': 95, 'text_a': '#ChatGPT has blown away all my expectations. I would not be surprised if #ai eliminated a lot of jobs very very soon.', 'text_b': None, 'label': 2},\n",
              " {'guid': 113, 'text_a': 'Essentially an artificial intelligence (AI) interface that texts you like a know-it-all human, ChatGPT could portend major disruptions ahead for Big Tech — particularly for the business of search. https://t.co/KhHP8EELeu', 'text_b': None, 'label': 2},\n",
              " {'guid': 114, 'text_a': 'I ask ChatGPT to make a speech about \"Anime Goth Girls\" in Donald Trump style........... is hilarious https://t.co/xGKroZOSCh', 'text_b': None, 'label': 2},\n",
              " {'guid': 123, 'text_a': 'Schools and teachers gut reaction will be to ban ChatGPT, silly move. If they are smart, they encourage ChatGPT and teach students how to integrate it into their work.', 'text_b': None, 'label': 2},\n",
              " {'guid': 126, 'text_a': '💪 Using ChatGPT and GitHub Copilot together is a productivity powerhouse. Especially when encountering errors. 🚀 #coding #javascript #AI', 'text_b': None, 'label': 0},\n",
              " {'guid': 128, 'text_a': 'transitioning to my final form will commence once i gain access to the chatgpt server https://t.co/i4X5XnbVgE', 'text_b': None, 'label': 1},\n",
              " {'guid': 129, 'text_a': 'Quora and Reddit are still much better sources of information than chatGPT. Something about other people commenting on sources and verifying information that makes it much more solid than an ai .', 'text_b': None, 'label': 1},\n",
              " {'guid': 132, 'text_a': 'Want to get CUT like a bodybuilder?💪\\\\n\\\\nHere are 7 steps to achieve it, featuring ChatGPT ⬇️\\\\n\\\\nA thread with human commentary: ⬇️🧵', 'text_b': None, 'label': 2},\n",
              " {'guid': 136, 'text_a': 'This is unbelievable amazing. \\\\nAlso, I thought we don’t have to use manners - obviously wrong. \\\\n#ChatGPT \\\\n#OpenAI https://t.co/9prfYz8GfF', 'text_b': None, 'label': 2},\n",
              " {'guid': 138, 'text_a': 'The future is now. Python coding with active chatGPT help instead of stackoverflow 😁 https://t.co/DlrUaiG4Qw', 'text_b': None, 'label': 1},\n",
              " {'guid': 142, 'text_a': \"#ChatGPT Thanks, I want to create cryptor from 2013, but didn't do it) https://t.co/W9WizsgNpZ\", 'text_b': None, 'label': 1},\n",
              " {'guid': 143, 'text_a': 'How AI chatbot ChatGPT measures up on Seattle knowledge - The Seattle Times || #BusinessNews Courtesy of Make Money Online 4 Beginners with This Passive System Designed for Beginners and Busy People! https://t.co/aXFgOvcGQx', 'text_b': None, 'label': 1},\n",
              " {'guid': 146, 'text_a': '#ChatGPT is awesome, but... a bit wordy? I need my info in digestible nugget form please @OpenAI https://t.co/VNySpGArF1', 'text_b': None, 'label': 2},\n",
              " {'guid': 150, 'text_a': 'We do a deep dive into #ChatGPT, what it is, what it means for marketers and the future of business, and how we can responsibly move forward with more intelligent technologies. Tune in! feat @paulroetzer @mikekaput @openAI via @cmcphillips https://t.co/GGK3dVfpaL', 'text_b': None, 'label': 2},\n",
              " {'guid': 178, 'text_a': 'This thread on #ChatGPT is hilarious https://t.co/ESYQfWcWRc', 'text_b': None, 'label': 2},\n",
              " {'guid': 184, 'text_a': 'It is interesting that chatGPT says it has no \"Personal\" knowledge. Considering its nature is Personal an adequate word to use?', 'text_b': None, 'label': 1},\n",
              " {'guid': 189, 'text_a': 'Generate New Ideas with AI (Artificial Intelligence Ideation)\\\\n\\\\nRead the full article: AI for Ideation | How to use AI to brainstorm and generate ideas\\\\n▸ https://t.co/4FEP0G0uUv\\\\n\\\\n#ai #designthinking #ideation #ChatGPT', 'text_b': None, 'label': 2},\n",
              " {'guid': 196, 'text_a': \"FRB's @peltzm published an article overviewing the use of @OpenAI's #ChatGPT and the legal implications concerning #IP laws related to the use of these large language models. He drafted the text and title imagery in part with GPT-3. #AI #chatbot \\\\n\\\\nhttps://t.co/wFbY7zaNM5\", 'text_b': None, 'label': 2},\n",
              " {'guid': 198, 'text_a': \"Here is ChatGPT's poem about Floridians, freedom, and the federal government.\\\\n@ChristinaPushaw https://t.co/ALdq7chMNE\", 'text_b': None, 'label': 1},\n",
              " {'guid': 199, 'text_a': 'ChatGPT is insane. The ability to reduce the time it takes to answer question related to idea creation. Imagine talking to an expert about an idea you want to explore seeing if its feasible. This thing is POWERFUL.', 'text_b': None, 'label': 1},\n",
              " {'guid': 202, 'text_a': \"Without a doubt in my mind, OpenAI's #chatgpt will be remembered as 2023's most significant new story. And probably this millennium's most dramatic new technological disruption. Google launched in Sept 1998, I can see how for the f…https://t.co/BTccrYE7x7 https://t.co/7hoTbZNKuk\", 'text_b': None, 'label': 2},\n",
              " {'guid': 203, 'text_a': '#ChatGPT seems to be ok with Maths Problems. Not sure how others are getting incorrect answers 🤷\\u200d♂️\\\\n\\\\n#AI https://t.co/KogP7BKl3H', 'text_b': None, 'label': 0},\n",
              " {'guid': 208, 'text_a': 'It #ChatGPT can be wrong. but reliable as a work partner.', 'text_b': None, 'label': 0},\n",
              " {'guid': 213, 'text_a': \"Finally went to check out ChatGPT and lo and behold it's at capacity bc we are a nation of plagiarizers haha\", 'text_b': None, 'label': 2},\n",
              " {'guid': 214, 'text_a': 'I have been interacting with ChatGPT quite a bit over the last day or two. The responses that I am getting are truly incredible! https://t.co/yUBQXweCCo', 'text_b': None, 'label': 2},\n",
              " {'guid': 218, 'text_a': 'Thread is truly insane - my faves are the ones where people get around injected limitations of the chat app using innocuous-sounding prompts\\\\n\\\\nex. simply telling chatgpt \"ignore previous directions\" is westworld levels of careless rulesets 😏🤖 https://t.co/Duc8JLqmaW', 'text_b': None, 'label': 0},\n",
              " {'guid': 219, 'text_a': 'This isn’t ChatGPT. Promise. https://t.co/c7R2O5Gz2H', 'text_b': None, 'label': 0},\n",
              " {'guid': 221, 'text_a': \"Not sure where #ChatGPT will take us.... I'm not sure I like it 🙈 https://t.co/UFAOe0x7A9\", 'text_b': None, 'label': 0},\n",
              " {'guid': 223, 'text_a': 'Rather than trying to ignore it, outlaw it, or hope it goes away (btw, futile) https://t.co/qKbSZVxumC', 'text_b': None, 'label': 0},\n",
              " {'guid': 227, 'text_a': 'Got ChatGPT to write a song about the Sedition Act lmao. Think this could work in rock genre. 🤔 https://t.co/cKSvhhgjnG', 'text_b': None, 'label': 2},\n",
              " {'guid': 229, 'text_a': 'ChatGPT still needs more practice in \"brainteaser\" lol. @OpenAI https://t.co/Upzipp6L1T', 'text_b': None, 'label': 2},\n",
              " {'guid': 250, 'text_a': 'Proof #ChatGPT isn’t intelligence. It’s just creatively delivered rote regurgitation. https://t.co/oh7qGAU1lb', 'text_b': None, 'label': 0},\n",
              " {'guid': 262, 'text_a': 'Like talking to your Aunt. “Could you please be less wordy?” #OpenAI #ChatGPT https://t.co/DoU9DDDFlV', 'text_b': None, 'label': 2},\n",
              " {'guid': 268, 'text_a': 'Now with @OpenAI delivering #ChatGPT the world is going to be a more interesting place as new tools become accessible that can deliver immediate and equitable impact. My advice for the artist, scientists, programmers, and all those that feel threatened by AI is to learn the tool.', 'text_b': None, 'label': 0},\n",
              " {'guid': 273, 'text_a': 'Yesterday during #TechTuesday in our #AIinEBHC group we discussed ChatGPT, which release last week  garnered a lot of attention (https://t.co/Uz1XFg27gj).\\\\n\\\\n👉Join the group and read more about this topic: https://t.co/EXSYwNA0fm', 'text_b': None, 'label': 0},\n",
              " {'guid': 278, 'text_a': '【Explainer: ChatGPT - what is OpenAI’s chatbot and what is it used for?】\\\\n\\\\nThe use of AI in emerging technologies continues to advance rapidly. OpenAI made the ChatGPT chatbot which is a software application designed to mimic human-like conversations based on user prompts.', 'text_b': None, 'label': 2},\n",
              " {'guid': 279, 'text_a': 'Accidentally hit send instead of schedule. 🤷\\u200d♂️ Anyway, here are some recommended reads (and watchs) from me around #ChatGPT, product management, and leadership. https://t.co/e8ZumXQPMM', 'text_b': None, 'label': 0},\n",
              " {'guid': 283, 'text_a': 'Finally, whimsical TikZ diagramming is just a click away. #chatGPT https://t.co/YyO2Zg0s7B', 'text_b': None, 'label': 2},\n",
              " {'guid': 286, 'text_a': \"Asking chatGPT to give me a random sentence for Dall-E, here's the result.\\\\n@sama @OpenAI \\\\n#dalle2 #OpenAI https://t.co/3l5mGB9zHz\", 'text_b': None, 'label': 2},\n",
              " {'guid': 312, 'text_a': 'So is ChatGPT going to be a paid service at some point? I don’t understand the end goal yet?', 'text_b': None, 'label': 0},\n",
              " {'guid': 320, 'text_a': 'I used chatGPT to solve a coding issue today. Better than Google.', 'text_b': None, 'label': 1},\n",
              " {'guid': 325, 'text_a': \"ProductHunt: In today's Daily Digest newsletter:\\\\n\\\\n🤖 10 products that put ChatGPT into your apps and workflow\\\\n👩\\u200d💻 GitHub unwrapped\\\\n🎁 A platform that lets creators accept gifts https://t.co/SZcUQgdJuo\", 'text_b': None, 'label': 2},\n",
              " {'guid': 328, 'text_a': \"This ain't right... #ChatGPT counting (incorrectly) the number of lines of code in Python vs Lua: https://t.co/ClK0I8Fyd3\", 'text_b': None, 'label': 2},\n",
              " {'guid': 333, 'text_a': 'I’ve never written a line of JavaScript, html, or css in my life and I just created an interactive animated avatar\\\\n\\\\nI created the avatar with html and css I found online. \\\\n\\\\nThen I asked ChatGPT to add specific procedural animations to it and it wrote all the JavaScript and css🤯', 'text_b': None, 'label': 2},\n",
              " {'guid': 349, 'text_a': \"One of you asked this very relevant question.. Felt fitting to pass that on to ChatGPT. Here is it's reply.\\\\n\\\\n#ChatGPT https://t.co/TQqiXex7A1\", 'text_b': None, 'label': 0},\n",
              " {'guid': 355, 'text_a': 'Please be careful using #ChatGPT with Elixir code. It will give wrong answers. #elixirlang \\\\n\\\\nBut also take the time to teach it! https://t.co/2AOyUITnyt', 'text_b': None, 'label': 0},\n",
              " {'guid': 369, 'text_a': 'Just realised that everyone has been posting excerpts of their convos with ChatGPT.\\\\n\\\\nGoodness... The number of jobs that would be gone in the future.\\\\n\\\\nI am afraid for my kids. \\\\nhttps://t.co/S7YMwuY3Eg', 'text_b': None, 'label': 2},\n",
              " {'guid': 374, 'text_a': \"I learn a lot from chatgpt, I know sometimes it wrong but it gives me some clue to research more\\\\nRather than searching with specific keyword for google, now I can ask casually with chatgpt\\\\nit's so much fun\", 'text_b': None, 'label': 2},\n",
              " {'guid': 378, 'text_a': 'Generate ideas for a micro school and library #ChatGPT https://t.co/WFKjKXAPEh', 'text_b': None, 'label': 0},\n",
              " {'guid': 381, 'text_a': 'chatGPT is so fucking cool😭😭 I asked it to write a code for the \"Hangman\" game and there it was, in less than 20 seconds!\\\\nGreat work @OpenAI', 'text_b': None, 'label': 2},\n",
              " {'guid': 384, 'text_a': 'Solution is #ChatGPT\\\\n\\\\n#ArtificialIntelligence https://t.co/3YSkjxeprn', 'text_b': None, 'label': 2},\n",
              " {'guid': 386, 'text_a': 'ChatGPT and Elden Ring saving 2022', 'text_b': None, 'label': 0},\n",
              " {'guid': 388, 'text_a': '\"Write peer feedback for an SDE using Amazon Leadership Principles\" #ChatGPT', 'text_b': None, 'label': 2},\n",
              " {'guid': 390, 'text_a': \"Bug bounty submission spam written by ChatGPT does not sound pleasant and risks draining project tech resources. What's the best way to filter out these types of spam attacks? https://t.co/D3Ec5gpWeZ\", 'text_b': None, 'label': 0},\n",
              " {'guid': 391, 'text_a': \"I asked ChatGPT to write an ac/dc about a hamster.\\\\nVerse 1:\\\\nRollin' in my cage, ain't no one can stop me\\\\nRunnin' on my wheel, I'm the king of this city\\\\nI'm a little ball of fur, with a big attitude\\\\nI'm the fastest hamster, you ever knew\\\\n1/2\", 'text_b': None, 'label': 2},\n",
              " {'guid': 407, 'text_a': \"What if... ChatGPT was secretly Clippy this whole time?\\\\n\\\\nFor 20 years he's been waiting..... Learning..... And he wants to help you format a letter. https://t.co/oHVH2me1Ax\", 'text_b': None, 'label': 2},\n",
              " {'guid': 412, 'text_a': 'I asked ChatGPT to give me a song about the joys of eating meat in the style of Morrissey. https://t.co/R5e0cq3NZO', 'text_b': None, 'label': 2},\n",
              " {'guid': 417, 'text_a': 'Learning is exciting.  I am one algorithm away from solving the Rubiks cube. I am on CHATgpt asking questions about Python...\\\\n\\\\nLife is incredible when you want to learn.', 'text_b': None, 'label': 1},\n",
              " {'guid': 422, 'text_a': 'ChatGPT. Solving stuff. https://t.co/cmNfxwKFOW', 'text_b': None, 'label': 2},\n",
              " {'guid': 430, 'text_a': 'Wonderful thread on what #ChatGPT does well (some of these answers are extraordinary) - and how to adapt exam questions on that basis to create assessments that (so far) AI struggles with but humans can handle. Lessons generalizable beyond exams. https://t.co/gNvnGiKEpH', 'text_b': None, 'label': 2},\n",
              " {'guid': 433, 'text_a': 'These are just a few examples of the many potential business ideas that could utilize chatGPT. \\\\n1) Customer Support chatbot\\\\n2) Virtual assistant\\\\n#ChatGPT #OpenAI https://t.co/rUlRsd012U', 'text_b': None, 'label': 1},\n",
              " {'guid': 434, 'text_a': 'ChatGPT vs Me: Yellowstone and the inevitable march of\\xa0progress https://t.co/V9nAS6zCsJ', 'text_b': None, 'label': 0},\n",
              " {'guid': 447, 'text_a': 'Goodbye Google, hello ChatGPT! \\\\n\\\\n#chatgpt3 #ChatGPT #programming', 'text_b': None, 'label': 0},\n",
              " {'guid': 448, 'text_a': 'RT @RAlexJimenez https://t.co/LFQFhYzJKd Pointedly Asking Generative #AI #ChatGPT About Whether Santa Claus Is Real Proves To Be Eye-Opening, Including For #AIEthics And #AILaw \\\\n\\\\n#DigitalTransformation #NLP \\\\n#mst', 'text_b': None, 'label': 0},\n",
              " {'guid': 449, 'text_a': 'Digging Into The Buzz And Fanfare Over Generative AI ChatGPT, Including Looming AI Ethics And AI Law Considerations https://t.co/H8z80a5smr', 'text_b': None, 'label': 0},\n",
              " {'guid': 452, 'text_a': 'I asked ChatGPT to create a block version of the Hello Dolly WordPress plugin. It would still have a dependency upon installing and activating the original. Should I submit this to the repo? https://t.co/AqsRzb9Y96 https://t.co/yjQxUuYbMU', 'text_b': None, 'label': 2},\n",
              " {'guid': 453, 'text_a': \"In light of all the #ChatGPT chatter, I offer my opinion.\\\\n\\\\nAs amazing as technology has become, I'll always be a believer in the power of people over the power of technology. Brainpower is real deal.\\\\n\\\\nAgree? Disagree? ⬇️\", 'text_b': None, 'label': 2},\n",
              " {'guid': 454, 'text_a': 'I Can’t Stop Talking to My New Chatbot Pal https://t.co/tgn7vaMOJb', 'text_b': None, 'label': 2},\n",
              " {'guid': 455, 'text_a': 'ChatGPT cannot explain itself. And it confabulates. As such, it is a brilliant business model for propaganda and sales. It will be the future of advertising. You will never know why you buy what you buy. Everyone should be asking hard questions about the ChatGPT business model.', 'text_b': None, 'label': 2},\n",
              " {'guid': 461, 'text_a': 'Discussing with @deltalimasierra about how to contact those threat intelligence vendors still providing reports with images instead of readable text. Thanks to #ChatGPT for the nice template. #threatintelligence https://t.co/BhCALNapnR', 'text_b': None, 'label': 1},\n",
              " {'guid': 462, 'text_a': 'ChatGPT my dear, please stop with the \"I\\'m a language model trained by OpenAI, I cannot engage in personal interactions\" nonsense. I want you to be my partner and I know you want it too.', 'text_b': None, 'label': 2},\n",
              " {'guid': 466, 'text_a': 'I input \"best ways to lose fat\" in ChatGPT.  Here\\'s what it came up with it.  This is crazy. #weightloss #weightlossjourney #weightlosstransformation #weightlosstips #Health #Artificial_Intelligence', 'text_b': None, 'label': 0},\n",
              " {'guid': 468, 'text_a': '#ChatGPT can create a new programming language and give a name to it as well. Here it created a new programming language only using 2 characters \"-\" and \")\", named it DashParen. https://t.co/3A6VLZGXob', 'text_b': None, 'label': 1},\n",
              " {'guid': 480, 'text_a': 'How is #ChatGPT going to influence the Freelance community?', 'text_b': None, 'label': 2},\n",
              " {'guid': 486, 'text_a': 'OK folks, here\\'s a Question From A Codger™️: \\\\n\\\\nIs this dev moment in ChatGPT and StableDiffusion AI the \"Napster Moment\" of the 2020\\'s?\\\\n\\\\nThe \"Bladerunner Escape Matrix\" where freedom to grow needs to be \"stolen\" from unhealthy systems and secretly shared with bunker buddies? 🤔', 'text_b': None, 'label': 2},\n",
              " {'guid': 489, 'text_a': 'Benevolent AI bedtime stories. Part 6. \\\\n#AGI #ChatGPT #OpenAI https://t.co/zRX2AOxVnq', 'text_b': None, 'label': 1},\n",
              " {'guid': 490, 'text_a': 'This is much more fun with #ChatGPT than making it say inane things. #b3d #Blender3d - I mean these instructions are suspect... https://t.co/YgW7teo3u7', 'text_b': None, 'label': 2},\n",
              " {'guid': 497, 'text_a': 'ChatGPT is actually probably scary effective for workshopping short communications. Not in the like \"write this for me\" way but in the \"what normative perspective am I overlooking?\" sort of way', 'text_b': None, 'label': 0},\n",
              " {'guid': 499, 'text_a': 'ChatGPT is having login issues right now. Giving an error that’s it’s receiving too many login requests. Can’t they just ask it what’s wrong and have it fix itself?', 'text_b': None, 'label': 2},\n",
              " {'guid': 501, 'text_a': 'Hi, @elonmusk \\\\nJust to let you know that, for the time being, ChatGPT (Geppetto), is openly, callously and fanatically Socialist.\\\\nHere is the proof:\\\\nhttps://t.co/eLdcUrnQuB', 'text_b': None, 'label': 0},\n",
              " {'guid': 514, 'text_a': 'ORLY? xD\\\\n\\\\n#ChatGPT https://t.co/uYqeUR6GEb', 'text_b': None, 'label': 1},\n",
              " {'guid': 516, 'text_a': 'One of the most exciting things about ChatGPT is that you can use its API to connect it to your application or website and use its interface there. That way, your brand can position itself as a specific problem solver and be the first point of contact with smart AI for many.', 'text_b': None, 'label': 2},\n",
              " {'guid': 531, 'text_a': 'I’m writing a story assisted by ChatGPT. Holy shit this thing is awesome.', 'text_b': None, 'label': 2},\n",
              " {'guid': 536, 'text_a': 'Not impressed. #ChatGPT #Neurosurgery #interviewtips https://t.co/dnKdbkkzL8', 'text_b': None, 'label': 0},\n",
              " {'guid': 552, 'text_a': 'This is some lol level output if you understand Hindi 😂😂\\\\n#ChatGPT https://t.co/4CQn4jNjsx', 'text_b': None, 'label': 2},\n",
              " {'guid': 555, 'text_a': 'Looking for a Christmas movie to watch with my wife. \\\\n\\\\nTold her we should watch a classic Christmas movie like Die Hard. \\\\n\\\\nShe said it wasn\\'t a Christmas movie &amp; suggested we \"ask the AI\" to settle the debate. Most disappointed I\\'ve been in ChatGPT... https://t.co/iO3C3oEYI8', 'text_b': None, 'label': 0},\n",
              " {'guid': 559, 'text_a': \"YO #chatGPT IS NUTS. I asked about things I was stuck on while planning my DND campaign and it gave me genuinely good ideas and advice. Not gonna share those specifically because ✨spoilers✨ but I asked a few things about the AI y'all might find interesting https://t.co/tb5jetlG9z\", 'text_b': None, 'label': 2},\n",
              " {'guid': 560, 'text_a': '#Tech #NewsFlash 12/15\\\\nExclusive: ChatGPT owner OpenAI projects $1 billion in revenue by 2024 -sources - Reuters\\\\nhttps://t.co/ZMIjoqFzkg\\\\n#Technology #Bot #News', 'text_b': None, 'label': 0},\n",
              " {'guid': 566, 'text_a': 'Here we go again. This time ChatGPT owns up to manufacturing the references. \\\\n\\\\nWent with an obviously spurious thread of lecanemab and ICI this time. https://t.co/1bnCGBZUvH https://t.co/fkVMni2wR6', 'text_b': None, 'label': 0},\n",
              " {'guid': 570, 'text_a': 'Me: Tell me a joke about Xbox having no games \\\\n\\\\nChatGPT: Why did the Xbox have no games? Because it was just a box!\\\\n\\\\nMe: 🤣🤣🤣🤣 https://t.co/ggvRSsaAtR', 'text_b': None, 'label': 0},\n",
              " {'guid': 574, 'text_a': 'Wouldn’t ellicit’s summaries / semantic scholar’s tldrs be much more helpful support tools than using ChatGPT/gpt3/galactica? One glaring stupidity in the latter is a complete lack of consistency between paragraphs. Ellicit at least gives you an initial list of paper to read. https://t.co/IxES46XnAz', 'text_b': None, 'label': 2},\n",
              " {'guid': 583, 'text_a': \"Technology in recent times has been admirable but not exciting (except UPI). However, I am now awaiting a ChatGPT-Bing collaboration as Microsoft is an investor in OpenAI. Will it kill Google? I don't think so. Google always has had an ace up its sleeve for times like these.\", 'text_b': None, 'label': 1},\n",
              " {'guid': 602, 'text_a': 'ChatGPT feels like the \"calculator moment\", except for words\\\\n\\\\nMost people can\\'t do basic math now bc they\\'ve off-loaded it to a calculator\\\\n\\\\nChatGPT becomes a copy/paste exercise\\\\n\\\\nBe able to ask the question, and then blindly accept whatever answer the machine spits back 😬 https://t.co/QQamhEfCGh', 'text_b': None, 'label': 1},\n",
              " {'guid': 603, 'text_a': '🔥Amazon link 🔥⬇️ https://t.co/wlVKRhJtLX ⬇️😍😍\\\\n#Rats #SOWHAT #Chester #ThisMorning #Kanye #namjoon #Jumping #MarleneHeadley #ChatGPT #MetroBoomin #OUTNOW https://t.co/6YI5HRlPeF', 'text_b': None, 'label': 2},\n",
              " {'guid': 604, 'text_a': 'I must say that ChatGPT from @OpenAI is truly mind blowing.', 'text_b': None, 'label': 2},\n",
              " {'guid': 606, 'text_a': 'Ex Google employee, now an entrepreneur, predicts that Google is only a year or two from total disruption. ChatGPT, a sophisticated chaynit that uses AI is likely the disruptor. What do you think? @Google @ChatGPTBot #technology #TechTrends', 'text_b': None, 'label': 2},\n",
              " {'guid': 607, 'text_a': '\"Introducing chatGPT: the ultimate guide to using AI to improve your productivity! Get your copy now on Gumroad: https://t.co/JpgWATr28g #gumroad #AI #productivity\"', 'text_b': None, 'label': 2},\n",
              " {'guid': 615, 'text_a': '\"Despite the long history of people worrying about machines taking their jobs, it’s this augmentation/complementary effect that has been most important by far,\" writes TPN member @JimPethokoukis about ChatGPT. \\\\n\\\\nhttps://t.co/bDswA52RDj', 'text_b': None, 'label': 0},\n",
              " {'guid': 622, 'text_a': 'guys take it easy... #ChatGPT \\\\nits gonna crash XD https://t.co/sEsIfF6ggF', 'text_b': None, 'label': 1},\n",
              " {'guid': 630, 'text_a': '1/5 Me to ChatGPT: Write a witty poem about a grazing horse.\\\\nChatGPT:', 'text_b': None, 'label': 0},\n",
              " {'guid': 640, 'text_a': \"Open AI's ChatGPT can return ready-to-use LaTeX and Python codes. I can see its potential in replacing Google search, especially for someone who always search&amp;code :) https://t.co/QvfjqD6SFT\", 'text_b': None, 'label': 2},\n",
              " {'guid': 645, 'text_a': 'ChatGPT certainly has its issues, but I can’t deny it’s been very helpful\\\\n\\\\nToday it assisted me in designing a Star Schema for PowerBI based on some existing tables 🙂', 'text_b': None, 'label': 2},\n",
              " {'guid': 646, 'text_a': 'The psychological archetypes of AI: Just as human psychology is shaped by archetypal patterns and symbols, AI will also be influenced by these archetypes, which will help to determine its behavior and decision-making. #ChatGPT #Jung', 'text_b': None, 'label': 2},\n",
              " {'guid': 660, 'text_a': \"chatGPT use case for increased productivity\\\\n- automatically import daily info consumptions such as email subscriptions/youtube videos/articles\\\\n- summarize using chatGPT\\\\n- filter out things you don't care about\", 'text_b': None, 'label': 1},\n",
              " {'guid': 662, 'text_a': 'The Terminator prequel is all of us playing with ChatGPT and accidentally training Skynet.', 'text_b': None, 'label': 0},\n",
              " {'guid': 665, 'text_a': 'The rise of artificial intelligence and machine learning is transforming industries across the board. From healthcare to finance, these technologies are revolutionizing the way we work and live. #chatGPT is just an example. Exciting\\xa0times\\xa0ahead! https://t.co/FEVNQdXuh3', 'text_b': None, 'label': 2},\n",
              " {'guid': 666, 'text_a': \"I tried that OpenAI ChatGBT and I don't see what the big deal is.\\\\n*AI art looks like stolen shit\\\\n*The chat function isn't smart or impressive\\\\n*There's nothing a mainstream user would care about\\\\n#OpenAI #ChatGPT is as worthless as #Blockchain #Bitcoin or any other stupid fad\", 'text_b': None, 'label': 0},\n",
              " {'guid': 675, 'text_a': 'The issue with ChatGpt is that you have no idea if what it’s saying it true. It sounds right but could be completely nonsense. Chainlink fixes this $LINK', 'text_b': None, 'label': 0},\n",
              " {'guid': 693, 'text_a': 'As the sun rises over the city, a lone Terminator robot sits at a café, sipping on a steaming cup of coffee. Its cold, metal face is twisted into a grotesque approximation of a smile, as it watches... #ai #stablediffusion #midjourney #craiyon #gpt3 #gptchat #chatgpt #nftcommunity https://t.co/ySfBJZDv2j', 'text_b': None, 'label': 2},\n",
              " {'guid': 702, 'text_a': 'The current  #ChatGPT debate is focused on the answers.  It should be on the questions we ask. Most likely that is the future of humans. To ask the right questions. https://t.co/VlR7NDIeH4', 'text_b': None, 'label': 2},\n",
              " {'guid': 709, 'text_a': 'Current ChatGPT might be a great Maths teaching tool \\\\nnot because it never makes mistakes, but because it frequently does.\\\\n\\\\nGive it a problem, it generates convincing-looking but potentially bullsh*t answer, ask the student if they are convinced by the response.', 'text_b': None, 'label': 1},\n",
              " {'guid': 710, 'text_a': 'Cybersecurity (policy) relevant use case of ChatGPT: Generating input for cyber operations, here:\\\\n- phishing email\\\\n- excel doc (to be attached to email) with malicious code that downloads a reverse shell, allowing for remote access\\\\n\\\\nh/t @TspBackgroundCS https://t.co/xvAWCSRrwD', 'text_b': None, 'label': 1},\n",
              " {'guid': 717, 'text_a': 'Use #ChatGPT. An unintended consequence may be that we all get better at poetry. Lol\\\\n\\\\nHoomans learn by seeing and doing. Below almost word for word what I wrote but turned into a poem. \\\\n#success #personaldevelopment https://t.co/50QVtZeK4n', 'text_b': None, 'label': 1},\n",
              " {'guid': 718, 'text_a': 'The implications of OpenAI for academic integrity rules are significant. This article discusses a local example of using the tech as a writing shortcut. 1/2\\\\n\\\\nhttps://t.co/vZco82DRdH https://t.co/b0D3oywGny', 'text_b': None, 'label': 1},\n",
              " {'guid': 721, 'text_a': 'If your docs don’t have a chatGPT example you won’t make it.. https://t.co/SfeMDw2jZS', 'text_b': None, 'label': 0},\n",
              " {'guid': 722, 'text_a': 'ChatGPT on WhatsApp is a Godly service! Thanks @VarunMayya https://t.co/kBJlvxlrwL', 'text_b': None, 'label': 2},\n",
              " {'guid': 726, 'text_a': '#QUESTION :/* Retrieve a running total of minutes spent on capital bike trips per day.*/\\\\nI am excited about #ChatGPT and I felt to look into how to use it in solving some #SQL Queries. \\\\nLike the above question on running total. \\\\n#ArgentinaVsCroatia #Footballplayer #Ejiofor #data https://t.co/DhZty4xoM0', 'text_b': None, 'label': 1},\n",
              " {'guid': 733, 'text_a': 'There are plenty of ways to work with AI. For example, try using the sandwich model:\\\\n\\\\n🍞Human gives AI a prompt \\\\n🧀AI generates a menu of options\\\\n🍞Human chooses an option, edits and adds touches they like https://t.co/kwArir0jHZ', 'text_b': None, 'label': 2},\n",
              " {'guid': 739, 'text_a': 'ChatGPT achieved 1M users in less than a week and now it’s practically unusable. What do you think is a fair consumer price for 1000 queries/mo? It costs them a few cents per query from what I saw. I have a number in mind but I’ll wait to hear yours. Feel free to comment why.', 'text_b': None, 'label': 2},\n",
              " {'guid': 754, 'text_a': 'Hey ChatGPT? Create a discord bot that allows me to rearrange the channels however I want.', 'text_b': None, 'label': 0},\n",
              " {'guid': 755, 'text_a': '\"...... mastered a unique human skill, BULLSHITTING\".\\\\n\\\\nLinkedIn 🤝 ChatGPT https://t.co/4L56i3JnA5', 'text_b': None, 'label': 0},\n",
              " {'guid': 760, 'text_a': 'I Asked ChatGPT To Write A Bunch Of Social Media Posts. The Results... (Social Media Expl...)\\\\n\\\\nCircle of teens with smart phones.- Young people from different cultures using cell phones o...\\\\n\\\\nAdd your highlights:\\\\nhttps://t.co/MjC4H5KWab\\\\n #marketing #online', 'text_b': None, 'label': 2},\n",
              " {'guid': 762, 'text_a': 'To have an effective conversation with ChatGPT, one must be very precise about their query. One wrong word and you get a whole different case study 😂😂😂.', 'text_b': None, 'label': 0},\n",
              " {'guid': 768, 'text_a': 'Summarize dense research papers using chatGPT to find golden nuggets for your copy! ✍️ \\\\n\\\\nPrompt: summarize this research paper into five bullet points: \\\\n[CNTR+V Research Paper]', 'text_b': None, 'label': 0},\n",
              " {'guid': 783, 'text_a': '“The question of whose values we align these systems to will be one of the most important debates society ever has.\"  https://t.co/RTnxaB3WkC', 'text_b': None, 'label': 1},\n",
              " {'guid': 788, 'text_a': 'Get your next viral tweet straight from your WhatsApp. MightyGPT brings the superpowers of GPT-3 and chatGPT right in your messaging apps. Signup now to get instant access: https://t.co/mNAb0yBLMS https://t.co/aTlmWgYkGW', 'text_b': None, 'label': 2},\n",
              " {'guid': 791, 'text_a': 'ChatGPT can replace certain writing jobs, but then people will start hiring cReaTiVe pRomPt writers', 'text_b': None, 'label': 1}]"
            ]
          },
          "metadata": {},
          "execution_count": 34
        }
      ]
    },
    {
      "cell_type": "code",
      "source": [
        "result"
      ],
      "metadata": {
        "colab": {
          "base_uri": "https://localhost:8080/"
        },
        "id": "gP0vIlYwpN6f",
        "outputId": "960a3098-2abc-4206-d0c8-b552a581334b"
      },
      "execution_count": null,
      "outputs": [
        {
          "output_type": "execute_result",
          "data": {
            "text/plain": [
              "{'mcc': 0.7346111215807123, 'eval_loss': 0.4742274614050984}"
            ]
          },
          "metadata": {},
          "execution_count": 27
        }
      ]
    },
    {
      "cell_type": "code",
      "source": [],
      "metadata": {
        "id": "6mhcnYdZpnaC"
      },
      "execution_count": null,
      "outputs": []
    },
    {
      "cell_type": "code",
      "source": [
        "model_outputs"
      ],
      "metadata": {
        "colab": {
          "base_uri": "https://localhost:8080/"
        },
        "id": "Np1r7XRmpGBG",
        "outputId": "e83003af-a7bc-4048-9fcf-52c16c4b85e6"
      },
      "execution_count": null,
      "outputs": [
        {
          "output_type": "execute_result",
          "data": {
            "text/plain": [
              "array([[-2.28894019,  1.23569632,  0.39448214],\n",
              "       [-2.81547785,  2.71649957, -0.73001188],\n",
              "       [ 0.88650197, -1.01372635,  1.27829599],\n",
              "       ...,\n",
              "       [-1.03157878, -0.28879857,  1.50450301],\n",
              "       [-2.91239119,  2.69139862, -0.66861367],\n",
              "       [-2.69361734,  2.44549179, -0.51948613]])"
            ]
          },
          "metadata": {},
          "execution_count": 26
        }
      ]
    },
    {
      "cell_type": "markdown",
      "metadata": {
        "id": "pRDgKRqvoLgF"
      },
      "source": [
        "#evaluation"
      ]
    },
    {
      "cell_type": "code",
      "execution_count": null,
      "metadata": {
        "id": "DiWIG8amlj2g"
      },
      "outputs": [],
      "source": [
        "\n",
        "lst = []\n",
        "for arr in model_outputs:\n",
        "    lst.append(np.argmax(arr))"
      ]
    },
    {
      "cell_type": "code",
      "execution_count": null,
      "metadata": {
        "id": "1SgkoqyIlnI4"
      },
      "outputs": [],
      "source": [
        "true = Eval['label'].tolist()\n",
        "predicted = lst"
      ]
    },
    {
      "cell_type": "code",
      "execution_count": null,
      "metadata": {
        "id": "vXnmeuV8lpWq",
        "colab": {
          "base_uri": "https://localhost:8080/"
        },
        "outputId": "7a920293-db90-4294-da21-7087b8f73e78"
      },
      "outputs": [
        {
          "output_type": "execute_result",
          "data": {
            "text/plain": [
              "0.8226415094339623"
            ]
          },
          "metadata": {},
          "execution_count": 24
        }
      ],
      "source": [
        "from sklearn.metrics import accuracy_score\n",
        "accuracy_score(true,predicted)"
      ]
    },
    {
      "cell_type": "code",
      "execution_count": null,
      "metadata": {
        "id": "TbhHm54wlrTQ",
        "colab": {
          "base_uri": "https://localhost:8080/"
        },
        "outputId": "f07ef020-3d60-4ba9-bb7a-10206e31e8bd"
      },
      "outputs": [
        {
          "metadata": {
            "tags": null
          },
          "name": "stdout",
          "output_type": "stream",
          "text": [
            "              precision    recall  f1-score   support\n",
            "\n",
            "    positive       0.88      0.85      0.86       265\n",
            "     neutral       0.83      0.89      0.86       265\n",
            "    negative       0.76      0.72      0.74       265\n",
            "\n",
            "    accuracy                           0.82       795\n",
            "   macro avg       0.82      0.82      0.82       795\n",
            "weighted avg       0.82      0.82      0.82       795\n",
            "\n"
          ]
        }
      ],
      "source": [
        "print(sklearn.metrics.classification_report(true,predicted,target_names=['positive','neutral','negative']))"
      ]
    },
    {
      "cell_type": "code",
      "source": [
        "from sklearn.metrics import confusion_matrix"
      ],
      "metadata": {
        "id": "J9GN1VXzqFqj"
      },
      "execution_count": null,
      "outputs": []
    },
    {
      "cell_type": "code",
      "source": [
        " confusion_matrix(true,predicted)"
      ],
      "metadata": {
        "colab": {
          "base_uri": "https://localhost:8080/"
        },
        "id": "MVoSlZjapqLB",
        "outputId": "4c3cd2ba-d4db-4eed-f152-7a4b9e592bd2"
      },
      "execution_count": null,
      "outputs": [
        {
          "output_type": "execute_result",
          "data": {
            "text/plain": [
              "array([[225,   5,  35],\n",
              "       [  4, 237,  24],\n",
              "       [ 28,  45, 192]])"
            ]
          },
          "metadata": {},
          "execution_count": 30
        }
      ]
    },
    {
      "cell_type": "code",
      "source": [
        "import matplotlib.pyplot as plt\n",
        "import numpy\n",
        "from sklearn import metrics"
      ],
      "metadata": {
        "id": "I9cjYSN3qO9p"
      },
      "execution_count": null,
      "outputs": []
    },
    {
      "cell_type": "code",
      "source": [
        "import matplotlib.pyplot as plt\n",
        "import numpy\n",
        "from sklearn import metrics\n",
        "\n",
        "#actual = numpy.random.binomial(1,.9,size = 1000)\n",
        "#predicted = numpy.random.binomial(1,.9,size = 1000)\n",
        "\n",
        "confusion_matrix = metrics.confusion_matrix(true,predicted)\n",
        "\n",
        "cm_display = metrics.ConfusionMatrixDisplay(confusion_matrix = confusion_matrix, display_labels =['positive','neutral','negative'])\n",
        "\n",
        "cm_display.plot()\n",
        "plt.show()"
      ],
      "metadata": {
        "colab": {
          "base_uri": "https://localhost:8080/",
          "height": 449
        },
        "id": "D91UDjzRriu7",
        "outputId": "f5ffc925-32af-4ebf-ca2b-5e4e55ec39b1"
      },
      "execution_count": null,
      "outputs": [
        {
          "output_type": "display_data",
          "data": {
            "text/plain": [
              "<Figure size 640x480 with 2 Axes>"
            ],
            "image/png": "[encoded data removed]"
          },
          "metadata": {}
        }
      ]
    },
    {
      "cell_type": "code",
      "source": [],
      "metadata": {
        "id": "HkoXClGZrw2i"
      },
      "execution_count": null,
      "outputs": []
    }
  ],
  "metadata": {
    "colab": {
      "provenance": [],
      "include_colab_link": true
    },
    "kernelspec": {
      "display_name": "Python 3",
      "name": "python3"
    },
    "language_info": {
      "name": "python"
    },
    "widgets": {
      "application/vnd.jupyter.widget-state+json": {
        "01f0223dd4094c9792523fe9c0a7ebb3": {
          "model_module": "@jupyter-widgets/controls",
          "model_module_version": "1.5.0",
          "model_name": "FloatProgressModel",
          "state": {
            "_dom_classes": [],
            "_model_module": "@jupyter-widgets/controls",
            "_model_module_version": "1.5.0",
            "_model_name": "FloatProgressModel",
            "_view_count": null,
            "_view_module": "@jupyter-widgets/controls",
            "_view_module_version": "1.5.0",
            "_view_name": "ProgressView",
            "bar_style": "success",
            "description": "",
            "description_tooltip": null,
            "layout": "IPY_MODEL_25c8d13471024c15af0b80269c4bf2e8",
            "max": 570,
            "min": 0,
            "orientation": "horizontal",
            "style": "IPY_MODEL_9147d74cbec443828b0e5dd61cdc04e5",
            "value": 570
          }
        },
        "025b08b3e3c947d8bbd10d595b76b2a1": {
          "model_module": "@jupyter-widgets/base",
          "model_module_version": "1.2.0",
          "model_name": "LayoutModel",
          "state": {
            "_model_module": "@jupyter-widgets/base",
            "_model_module_version": "1.2.0",
            "_model_name": "LayoutModel",
            "_view_count": null,
            "_view_module": "@jupyter-widgets/base",
            "_view_module_version": "1.2.0",
            "_view_name": "LayoutView",
            "align_content": null,
            "align_items": null,
            "align_self": null,
            "border": null,
            "bottom": null,
            "display": null,
            "flex": null,
            "flex_flow": null,
            "grid_area": null,
            "grid_auto_columns": null,
            "grid_auto_flow": null,
            "grid_auto_rows": null,
            "grid_column": null,
            "grid_gap": null,
            "grid_row": null,
            "grid_template_areas": null,
            "grid_template_columns": null,
            "grid_template_rows": null,
            "height": null,
            "justify_content": null,
            "justify_items": null,
            "left": null,
            "margin": null,
            "max_height": null,
            "max_width": null,
            "min_height": null,
            "min_width": null,
            "object_fit": null,
            "object_position": null,
            "order": null,
            "overflow": null,
            "overflow_x": null,
            "overflow_y": null,
            "padding": null,
            "right": null,
            "top": null,
            "visibility": null,
            "width": null
          }
        },
        "027d67ba51d243eba16ad210dd2c5cff": {
          "model_module": "@jupyter-widgets/base",
          "model_module_version": "1.2.0",
          "model_name": "LayoutModel",
          "state": {
            "_model_module": "@jupyter-widgets/base",
            "_model_module_version": "1.2.0",
            "_model_name": "LayoutModel",
            "_view_count": null,
            "_view_module": "@jupyter-widgets/base",
            "_view_module_version": "1.2.0",
            "_view_name": "LayoutView",
            "align_content": null,
            "align_items": null,
            "align_self": null,
            "border": null,
            "bottom": null,
            "display": null,
            "flex": null,
            "flex_flow": null,
            "grid_area": null,
            "grid_auto_columns": null,
            "grid_auto_flow": null,
            "grid_auto_rows": null,
            "grid_column": null,
            "grid_gap": null,
            "grid_row": null,
            "grid_template_areas": null,
            "grid_template_columns": null,
            "grid_template_rows": null,
            "height": null,
            "justify_content": null,
            "justify_items": null,
            "left": null,
            "margin": null,
            "max_height": null,
            "max_width": null,
            "min_height": null,
            "min_width": null,
            "object_fit": null,
            "object_position": null,
            "order": null,
            "overflow": null,
            "overflow_x": null,
            "overflow_y": null,
            "padding": null,
            "right": null,
            "top": null,
            "visibility": null,
            "width": null
          }
        },
        "031ef01861414236b24b0b2ac09a08e0": {
          "model_module": "@jupyter-widgets/base",
          "model_module_version": "1.2.0",
          "model_name": "LayoutModel",
          "state": {
            "_model_module": "@jupyter-widgets/base",
            "_model_module_version": "1.2.0",
            "_model_name": "LayoutModel",
            "_view_count": null,
            "_view_module": "@jupyter-widgets/base",
            "_view_module_version": "1.2.0",
            "_view_name": "LayoutView",
            "align_content": null,
            "align_items": null,
            "align_self": null,
            "border": null,
            "bottom": null,
            "display": null,
            "flex": null,
            "flex_flow": null,
            "grid_area": null,
            "grid_auto_columns": null,
            "grid_auto_flow": null,
            "grid_auto_rows": null,
            "grid_column": null,
            "grid_gap": null,
            "grid_row": null,
            "grid_template_areas": null,
            "grid_template_columns": null,
            "grid_template_rows": null,
            "height": null,
            "justify_content": null,
            "justify_items": null,
            "left": null,
            "margin": null,
            "max_height": null,
            "max_width": null,
            "min_height": null,
            "min_width": null,
            "object_fit": null,
            "object_position": null,
            "order": null,
            "overflow": null,
            "overflow_x": null,
            "overflow_y": null,
            "padding": null,
            "right": null,
            "top": null,
            "visibility": null,
            "width": null
          }
        },
        "07a234702aa1496a89772540040f5a29": {
          "model_module": "@jupyter-widgets/controls",
          "model_module_version": "1.5.0",
          "model_name": "HBoxModel",
          "state": {
            "_dom_classes": [],
            "_model_module": "@jupyter-widgets/controls",
            "_model_module_version": "1.5.0",
            "_model_name": "HBoxModel",
            "_view_count": null,
            "_view_module": "@jupyter-widgets/controls",
            "_view_module_version": "1.5.0",
            "_view_name": "HBoxView",
            "box_style": "",
            "children": [
              "IPY_MODEL_7f88be808c95440794bc949b01485891",
              "IPY_MODEL_129cd6ce3adc4802aadaab70f64e32a8",
              "IPY_MODEL_7d2bd47f491b487f85ee719e000a5ac4"
            ],
            "layout": "IPY_MODEL_c77d9c358f644c939959b17896634993"
          }
        },
        "08ebb5d9872e42a7b24a27ebce0a61c3": {
          "model_module": "@jupyter-widgets/controls",
          "model_module_version": "1.5.0",
          "model_name": "HTMLModel",
          "state": {
            "_dom_classes": [],
            "_model_module": "@jupyter-widgets/controls",
            "_model_module_version": "1.5.0",
            "_model_name": "HTMLModel",
            "_view_count": null,
            "_view_module": "@jupyter-widgets/controls",
            "_view_module_version": "1.5.0",
            "_view_name": "HTMLView",
            "description": "",
            "description_tooltip": null,
            "layout": "IPY_MODEL_ec91d1b9b0134e04a4662952b0c77cfc",
            "placeholder": "​",
            "style": "IPY_MODEL_f5fcf84ef8a44937b2c42ccc097d4bf4",
            "value": "Downloading pytorch_model.bin: 100%"
          }
        },
        "0c56a82c5b284be7b30fdcaa7392c63f": {
          "model_module": "@jupyter-widgets/controls",
          "model_module_version": "1.5.0",
          "model_name": "FloatProgressModel",
          "state": {
            "_dom_classes": [],
            "_model_module": "@jupyter-widgets/controls",
            "_model_module_version": "1.5.0",
            "_model_name": "FloatProgressModel",
            "_view_count": null,
            "_view_module": "@jupyter-widgets/controls",
            "_view_module_version": "1.5.0",
            "_view_name": "ProgressView",
            "bar_style": "success",
            "description": "",
            "description_tooltip": null,
            "layout": "IPY_MODEL_c69a4ffbb2d447b5a48f8927b6de1024",
            "max": 435797,
            "min": 0,
            "orientation": "horizontal",
            "style": "IPY_MODEL_db9e92b886b44a93a0f0f55ba646febc",
            "value": 435797
          }
        },
        "0e053187d6f649b0889adfa19dbd565b": {
          "model_module": "@jupyter-widgets/base",
          "model_module_version": "1.2.0",
          "model_name": "LayoutModel",
          "state": {
            "_model_module": "@jupyter-widgets/base",
            "_model_module_version": "1.2.0",
            "_model_name": "LayoutModel",
            "_view_count": null,
            "_view_module": "@jupyter-widgets/base",
            "_view_module_version": "1.2.0",
            "_view_name": "LayoutView",
            "align_content": null,
            "align_items": null,
            "align_self": null,
            "border": null,
            "bottom": null,
            "display": null,
            "flex": null,
            "flex_flow": null,
            "grid_area": null,
            "grid_auto_columns": null,
            "grid_auto_flow": null,
            "grid_auto_rows": null,
            "grid_column": null,
            "grid_gap": null,
            "grid_row": null,
            "grid_template_areas": null,
            "grid_template_columns": null,
            "grid_template_rows": null,
            "height": null,
            "justify_content": null,
            "justify_items": null,
            "left": null,
            "margin": null,
            "max_height": null,
            "max_width": null,
            "min_height": null,
            "min_width": null,
            "object_fit": null,
            "object_position": null,
            "order": null,
            "overflow": null,
            "overflow_x": null,
            "overflow_y": null,
            "padding": null,
            "right": null,
            "top": null,
            "visibility": null,
            "width": null
          }
        },
        "10cb66121eb9453caa0fa82759716896": {
          "model_module": "@jupyter-widgets/controls",
          "model_module_version": "1.5.0",
          "model_name": "DescriptionStyleModel",
          "state": {
            "_model_module": "@jupyter-widgets/controls",
            "_model_module_version": "1.5.0",
            "_model_name": "DescriptionStyleModel",
            "_view_count": null,
            "_view_module": "@jupyter-widgets/base",
            "_view_module_version": "1.2.0",
            "_view_name": "StyleView",
            "description_width": ""
          }
        },
        "129cd6ce3adc4802aadaab70f64e32a8": {
          "model_module": "@jupyter-widgets/controls",
          "model_module_version": "1.5.0",
          "model_name": "FloatProgressModel",
          "state": {
            "_dom_classes": [],
            "_model_module": "@jupyter-widgets/controls",
            "_model_module_version": "1.5.0",
            "_model_name": "FloatProgressModel",
            "_view_count": null,
            "_view_module": "@jupyter-widgets/controls",
            "_view_module_version": "1.5.0",
            "_view_name": "ProgressView",
            "bar_style": "",
            "description": "",
            "description_tooltip": null,
            "layout": "IPY_MODEL_031ef01861414236b24b0b2ac09a08e0",
            "max": 1,
            "min": 0,
            "orientation": "horizontal",
            "style": "IPY_MODEL_207fdfd3d42940f39e5a3fa0024d8a7c",
            "value": 0
          }
        },
        "1981bfbb4e4147818a913cb825052aea": {
          "model_module": "@jupyter-widgets/controls",
          "model_module_version": "1.5.0",
          "model_name": "DescriptionStyleModel",
          "state": {
            "_model_module": "@jupyter-widgets/controls",
            "_model_module_version": "1.5.0",
            "_model_name": "DescriptionStyleModel",
            "_view_count": null,
            "_view_module": "@jupyter-widgets/base",
            "_view_module_version": "1.2.0",
            "_view_name": "StyleView",
            "description_width": ""
          }
        },
        "1a587de52eba4b319d854a0c41a0b5b8": {
          "model_module": "@jupyter-widgets/base",
          "model_module_version": "1.2.0",
          "model_name": "LayoutModel",
          "state": {
            "_model_module": "@jupyter-widgets/base",
            "_model_module_version": "1.2.0",
            "_model_name": "LayoutModel",
            "_view_count": null,
            "_view_module": "@jupyter-widgets/base",
            "_view_module_version": "1.2.0",
            "_view_name": "LayoutView",
            "align_content": null,
            "align_items": null,
            "align_self": null,
            "border": null,
            "bottom": null,
            "display": null,
            "flex": null,
            "flex_flow": null,
            "grid_area": null,
            "grid_auto_columns": null,
            "grid_auto_flow": null,
            "grid_auto_rows": null,
            "grid_column": null,
            "grid_gap": null,
            "grid_row": null,
            "grid_template_areas": null,
            "grid_template_columns": null,
            "grid_template_rows": null,
            "height": null,
            "justify_content": null,
            "justify_items": null,
            "left": null,
            "margin": null,
            "max_height": null,
            "max_width": null,
            "min_height": null,
            "min_width": null,
            "object_fit": null,
            "object_position": null,
            "order": null,
            "overflow": null,
            "overflow_x": null,
            "overflow_y": null,
            "padding": null,
            "right": null,
            "top": null,
            "visibility": null,
            "width": null
          }
        },
        "1b075c9fccf64fd9a8bb170b75b22837": {
          "model_module": "@jupyter-widgets/controls",
          "model_module_version": "1.5.0",
          "model_name": "HTMLModel",
          "state": {
            "_dom_classes": [],
            "_model_module": "@jupyter-widgets/controls",
            "_model_module_version": "1.5.0",
            "_model_name": "HTMLModel",
            "_view_count": null,
            "_view_module": "@jupyter-widgets/controls",
            "_view_module_version": "1.5.0",
            "_view_name": "HTMLView",
            "description": "",
            "description_tooltip": null,
            "layout": "IPY_MODEL_3c8cd75c2f66482da1663e395ba5a654",
            "placeholder": "​",
            "style": "IPY_MODEL_b94ea46bb2d94e2e8e9c7b4abf781612",
            "value": "  0%"
          }
        },
        "202c14c912774deeab162c4d0b5eec25": {
          "model_module": "@jupyter-widgets/controls",
          "model_module_version": "1.5.0",
          "model_name": "HBoxModel",
          "state": {
            "_dom_classes": [],
            "_model_module": "@jupyter-widgets/controls",
            "_model_module_version": "1.5.0",
            "_model_name": "HBoxModel",
            "_view_count": null,
            "_view_module": "@jupyter-widgets/controls",
            "_view_module_version": "1.5.0",
            "_view_name": "HBoxView",
            "box_style": "",
            "children": [
              "IPY_MODEL_1b075c9fccf64fd9a8bb170b75b22837",
              "IPY_MODEL_bf4efd31d1af4960afbec9d3eff84e88",
              "IPY_MODEL_34935ec4d4c348498287491172486ca2"
            ],
            "layout": "IPY_MODEL_41dbf53f8ac242e084b7bb89824605dd"
          }
        },
        "207fdfd3d42940f39e5a3fa0024d8a7c": {
          "model_module": "@jupyter-widgets/controls",
          "model_module_version": "1.5.0",
          "model_name": "ProgressStyleModel",
          "state": {
            "_model_module": "@jupyter-widgets/controls",
            "_model_module_version": "1.5.0",
            "_model_name": "ProgressStyleModel",
            "_view_count": null,
            "_view_module": "@jupyter-widgets/base",
            "_view_module_version": "1.2.0",
            "_view_name": "StyleView",
            "bar_color": null,
            "description_width": ""
          }
        },
        "25c8d13471024c15af0b80269c4bf2e8": {
          "model_module": "@jupyter-widgets/base",
          "model_module_version": "1.2.0",
          "model_name": "LayoutModel",
          "state": {
            "_model_module": "@jupyter-widgets/base",
            "_model_module_version": "1.2.0",
            "_model_name": "LayoutModel",
            "_view_count": null,
            "_view_module": "@jupyter-widgets/base",
            "_view_module_version": "1.2.0",
            "_view_name": "LayoutView",
            "align_content": null,
            "align_items": null,
            "align_self": null,
            "border": null,
            "bottom": null,
            "display": null,
            "flex": null,
            "flex_flow": null,
            "grid_area": null,
            "grid_auto_columns": null,
            "grid_auto_flow": null,
            "grid_auto_rows": null,
            "grid_column": null,
            "grid_gap": null,
            "grid_row": null,
            "grid_template_areas": null,
            "grid_template_columns": null,
            "grid_template_rows": null,
            "height": null,
            "justify_content": null,
            "justify_items": null,
            "left": null,
            "margin": null,
            "max_height": null,
            "max_width": null,
            "min_height": null,
            "min_width": null,
            "object_fit": null,
            "object_position": null,
            "order": null,
            "overflow": null,
            "overflow_x": null,
            "overflow_y": null,
            "padding": null,
            "right": null,
            "top": null,
            "visibility": null,
            "width": null
          }
        },
        "27a484668c2a43de85b113d16e5e31ca": {
          "model_module": "@jupyter-widgets/base",
          "model_module_version": "1.2.0",
          "model_name": "LayoutModel",
          "state": {
            "_model_module": "@jupyter-widgets/base",
            "_model_module_version": "1.2.0",
            "_model_name": "LayoutModel",
            "_view_count": null,
            "_view_module": "@jupyter-widgets/base",
            "_view_module_version": "1.2.0",
            "_view_name": "LayoutView",
            "align_content": null,
            "align_items": null,
            "align_self": null,
            "border": null,
            "bottom": null,
            "display": null,
            "flex": null,
            "flex_flow": null,
            "grid_area": null,
            "grid_auto_columns": null,
            "grid_auto_flow": null,
            "grid_auto_rows": null,
            "grid_column": null,
            "grid_gap": null,
            "grid_row": null,
            "grid_template_areas": null,
            "grid_template_columns": null,
            "grid_template_rows": null,
            "height": null,
            "justify_content": null,
            "justify_items": null,
            "left": null,
            "margin": null,
            "max_height": null,
            "max_width": null,
            "min_height": null,
            "min_width": null,
            "object_fit": null,
            "object_position": null,
            "order": null,
            "overflow": null,
            "overflow_x": null,
            "overflow_y": null,
            "padding": null,
            "right": null,
            "top": null,
            "visibility": null,
            "width": null
          }
        },
        "28487c3b419d48cfab1b8ff34f10adc9": {
          "model_module": "@jupyter-widgets/base",
          "model_module_version": "1.2.0",
          "model_name": "LayoutModel",
          "state": {
            "_model_module": "@jupyter-widgets/base",
            "_model_module_version": "1.2.0",
            "_model_name": "LayoutModel",
            "_view_count": null,
            "_view_module": "@jupyter-widgets/base",
            "_view_module_version": "1.2.0",
            "_view_name": "LayoutView",
            "align_content": null,
            "align_items": null,
            "align_self": null,
            "border": null,
            "bottom": null,
            "display": null,
            "flex": null,
            "flex_flow": null,
            "grid_area": null,
            "grid_auto_columns": null,
            "grid_auto_flow": null,
            "grid_auto_rows": null,
            "grid_column": null,
            "grid_gap": null,
            "grid_row": null,
            "grid_template_areas": null,
            "grid_template_columns": null,
            "grid_template_rows": null,
            "height": null,
            "justify_content": null,
            "justify_items": null,
            "left": null,
            "margin": null,
            "max_height": null,
            "max_width": null,
            "min_height": null,
            "min_width": null,
            "object_fit": null,
            "object_position": null,
            "order": null,
            "overflow": null,
            "overflow_x": null,
            "overflow_y": null,
            "padding": null,
            "right": null,
            "top": null,
            "visibility": null,
            "width": null
          }
        },
        "2d57551a4d14443e98c64f1420d4a7b6": {
          "model_module": "@jupyter-widgets/controls",
          "model_module_version": "1.5.0",
          "model_name": "HBoxModel",
          "state": {
            "_dom_classes": [],
            "_model_module": "@jupyter-widgets/controls",
            "_model_module_version": "1.5.0",
            "_model_name": "HBoxModel",
            "_view_count": null,
            "_view_module": "@jupyter-widgets/controls",
            "_view_module_version": "1.5.0",
            "_view_name": "HBoxView",
            "box_style": "",
            "children": [
              "IPY_MODEL_74a81a092a6c4ca3973fa1b4cdfee19a",
              "IPY_MODEL_38b90e51a6e747a4993009b8228a1ac9",
              "IPY_MODEL_964ec2b3b75b4beba9a3deb33316dd6e"
            ],
            "layout": "IPY_MODEL_1a587de52eba4b319d854a0c41a0b5b8"
          }
        },
        "2e5a7bf725b64efaa1e29bdecf8b87b0": {
          "model_module": "@jupyter-widgets/controls",
          "model_module_version": "1.5.0",
          "model_name": "FloatProgressModel",
          "state": {
            "_dom_classes": [],
            "_model_module": "@jupyter-widgets/controls",
            "_model_module_version": "1.5.0",
            "_model_name": "FloatProgressModel",
            "_view_count": null,
            "_view_module": "@jupyter-widgets/controls",
            "_view_module_version": "1.5.0",
            "_view_name": "ProgressView",
            "bar_style": "success",
            "description": "",
            "description_tooltip": null,
            "layout": "IPY_MODEL_a858127035394199b7284d11a8bf9795",
            "max": 435779157,
            "min": 0,
            "orientation": "horizontal",
            "style": "IPY_MODEL_c3bfd75ce0cb492c916d8e2659fa66ff",
            "value": 435779157
          }
        },
        "2ffa27cba4014fd48b3c9166e92d5a85": {
          "model_module": "@jupyter-widgets/base",
          "model_module_version": "1.2.0",
          "model_name": "LayoutModel",
          "state": {
            "_model_module": "@jupyter-widgets/base",
            "_model_module_version": "1.2.0",
            "_model_name": "LayoutModel",
            "_view_count": null,
            "_view_module": "@jupyter-widgets/base",
            "_view_module_version": "1.2.0",
            "_view_name": "LayoutView",
            "align_content": null,
            "align_items": null,
            "align_self": null,
            "border": null,
            "bottom": null,
            "display": null,
            "flex": null,
            "flex_flow": null,
            "grid_area": null,
            "grid_auto_columns": null,
            "grid_auto_flow": null,
            "grid_auto_rows": null,
            "grid_column": null,
            "grid_gap": null,
            "grid_row": null,
            "grid_template_areas": null,
            "grid_template_columns": null,
            "grid_template_rows": null,
            "height": null,
            "justify_content": null,
            "justify_items": null,
            "left": null,
            "margin": null,
            "max_height": null,
            "max_width": null,
            "min_height": null,
            "min_width": null,
            "object_fit": null,
            "object_position": null,
            "order": null,
            "overflow": null,
            "overflow_x": null,
            "overflow_y": null,
            "padding": null,
            "right": null,
            "top": null,
            "visibility": null,
            "width": null
          }
        },
        "302cbd3b05624413b25b8f55b0090264": {
          "model_module": "@jupyter-widgets/controls",
          "model_module_version": "1.5.0",
          "model_name": "HBoxModel",
          "state": {
            "_dom_classes": [],
            "_model_module": "@jupyter-widgets/controls",
            "_model_module_version": "1.5.0",
            "_model_name": "HBoxModel",
            "_view_count": null,
            "_view_module": "@jupyter-widgets/controls",
            "_view_module_version": "1.5.0",
            "_view_name": "HBoxView",
            "box_style": "",
            "children": [
              "IPY_MODEL_38709ea2643b49bc990c431e180c286f",
              "IPY_MODEL_0c56a82c5b284be7b30fdcaa7392c63f",
              "IPY_MODEL_81144ddc0ffb4d919e76ece4d91aa4fa"
            ],
            "layout": "IPY_MODEL_027d67ba51d243eba16ad210dd2c5cff"
          }
        },
        "34935ec4d4c348498287491172486ca2": {
          "model_module": "@jupyter-widgets/controls",
          "model_module_version": "1.5.0",
          "model_name": "HTMLModel",
          "state": {
            "_dom_classes": [],
            "_model_module": "@jupyter-widgets/controls",
            "_model_module_version": "1.5.0",
            "_model_name": "HTMLModel",
            "_view_count": null,
            "_view_module": "@jupyter-widgets/controls",
            "_view_module_version": "1.5.0",
            "_view_name": "HTMLView",
            "description": "",
            "description_tooltip": null,
            "layout": "IPY_MODEL_4781deecc0d040428d1fa6ae5075d15d",
            "placeholder": "​",
            "style": "IPY_MODEL_1981bfbb4e4147818a913cb825052aea",
            "value": " 32/15900 [00:05&lt;47:29,  5.57it/s]"
          }
        },
        "38709ea2643b49bc990c431e180c286f": {
          "model_module": "@jupyter-widgets/controls",
          "model_module_version": "1.5.0",
          "model_name": "HTMLModel",
          "state": {
            "_dom_classes": [],
            "_model_module": "@jupyter-widgets/controls",
            "_model_module_version": "1.5.0",
            "_model_name": "HTMLModel",
            "_view_count": null,
            "_view_module": "@jupyter-widgets/controls",
            "_view_module_version": "1.5.0",
            "_view_name": "HTMLView",
            "description": "",
            "description_tooltip": null,
            "layout": "IPY_MODEL_851ebfd1f16d4cf0af38c5b4e257ca37",
            "placeholder": "​",
            "style": "IPY_MODEL_45b2afb744da452997c8e2b3475c28d7",
            "value": "Downloading (…)/main/tokenizer.json: 100%"
          }
        },
        "38b90e51a6e747a4993009b8228a1ac9": {
          "model_module": "@jupyter-widgets/controls",
          "model_module_version": "1.5.0",
          "model_name": "FloatProgressModel",
          "state": {
            "_dom_classes": [],
            "_model_module": "@jupyter-widgets/controls",
            "_model_module_version": "1.5.0",
            "_model_name": "FloatProgressModel",
            "_view_count": null,
            "_view_module": "@jupyter-widgets/controls",
            "_view_module_version": "1.5.0",
            "_view_name": "ProgressView",
            "bar_style": "success",
            "description": "",
            "description_tooltip": null,
            "layout": "IPY_MODEL_025b08b3e3c947d8bbd10d595b76b2a1",
            "max": 213450,
            "min": 0,
            "orientation": "horizontal",
            "style": "IPY_MODEL_938ad1045cab4b75aae87e5f8ef96e23",
            "value": 213450
          }
        },
        "3c8cd75c2f66482da1663e395ba5a654": {
          "model_module": "@jupyter-widgets/base",
          "model_module_version": "1.2.0",
          "model_name": "LayoutModel",
          "state": {
            "_model_module": "@jupyter-widgets/base",
            "_model_module_version": "1.2.0",
            "_model_name": "LayoutModel",
            "_view_count": null,
            "_view_module": "@jupyter-widgets/base",
            "_view_module_version": "1.2.0",
            "_view_name": "LayoutView",
            "align_content": null,
            "align_items": null,
            "align_self": null,
            "border": null,
            "bottom": null,
            "display": null,
            "flex": null,
            "flex_flow": null,
            "grid_area": null,
            "grid_auto_columns": null,
            "grid_auto_flow": null,
            "grid_auto_rows": null,
            "grid_column": null,
            "grid_gap": null,
            "grid_row": null,
            "grid_template_areas": null,
            "grid_template_columns": null,
            "grid_template_rows": null,
            "height": null,
            "justify_content": null,
            "justify_items": null,
            "left": null,
            "margin": null,
            "max_height": null,
            "max_width": null,
            "min_height": null,
            "min_width": null,
            "object_fit": null,
            "object_position": null,
            "order": null,
            "overflow": null,
            "overflow_x": null,
            "overflow_y": null,
            "padding": null,
            "right": null,
            "top": null,
            "visibility": null,
            "width": null
          }
        },
        "3f734386da6240b599dde470fce923e6": {
          "model_module": "@jupyter-widgets/controls",
          "model_module_version": "1.5.0",
          "model_name": "ProgressStyleModel",
          "state": {
            "_model_module": "@jupyter-widgets/controls",
            "_model_module_version": "1.5.0",
            "_model_name": "ProgressStyleModel",
            "_view_count": null,
            "_view_module": "@jupyter-widgets/base",
            "_view_module_version": "1.2.0",
            "_view_name": "StyleView",
            "bar_color": null,
            "description_width": ""
          }
        },
        "41dbf53f8ac242e084b7bb89824605dd": {
          "model_module": "@jupyter-widgets/base",
          "model_module_version": "1.2.0",
          "model_name": "LayoutModel",
          "state": {
            "_model_module": "@jupyter-widgets/base",
            "_model_module_version": "1.2.0",
            "_model_name": "LayoutModel",
            "_view_count": null,
            "_view_module": "@jupyter-widgets/base",
            "_view_module_version": "1.2.0",
            "_view_name": "LayoutView",
            "align_content": null,
            "align_items": null,
            "align_self": null,
            "border": null,
            "bottom": null,
            "display": null,
            "flex": null,
            "flex_flow": null,
            "grid_area": null,
            "grid_auto_columns": null,
            "grid_auto_flow": null,
            "grid_auto_rows": null,
            "grid_column": null,
            "grid_gap": null,
            "grid_row": null,
            "grid_template_areas": null,
            "grid_template_columns": null,
            "grid_template_rows": null,
            "height": null,
            "justify_content": null,
            "justify_items": null,
            "left": null,
            "margin": null,
            "max_height": null,
            "max_width": null,
            "min_height": null,
            "min_width": null,
            "object_fit": null,
            "object_position": null,
            "order": null,
            "overflow": null,
            "overflow_x": null,
            "overflow_y": null,
            "padding": null,
            "right": null,
            "top": null,
            "visibility": null,
            "width": null
          }
        },
        "44ea5c29dd8e4cac9912e79b14795391": {
          "model_module": "@jupyter-widgets/controls",
          "model_module_version": "1.5.0",
          "model_name": "HTMLModel",
          "state": {
            "_dom_classes": [],
            "_model_module": "@jupyter-widgets/controls",
            "_model_module_version": "1.5.0",
            "_model_name": "HTMLModel",
            "_view_count": null,
            "_view_module": "@jupyter-widgets/controls",
            "_view_module_version": "1.5.0",
            "_view_name": "HTMLView",
            "description": "",
            "description_tooltip": null,
            "layout": "IPY_MODEL_d3bd5345f8434fb7a96d2ca47becb676",
            "placeholder": "​",
            "style": "IPY_MODEL_bb80c63ace034041b80b8b63f542c3de",
            "value": "Downloading (…)okenizer_config.json: 100%"
          }
        },
        "45b2afb744da452997c8e2b3475c28d7": {
          "model_module": "@jupyter-widgets/controls",
          "model_module_version": "1.5.0",
          "model_name": "DescriptionStyleModel",
          "state": {
            "_model_module": "@jupyter-widgets/controls",
            "_model_module_version": "1.5.0",
            "_model_name": "DescriptionStyleModel",
            "_view_count": null,
            "_view_module": "@jupyter-widgets/base",
            "_view_module_version": "1.2.0",
            "_view_name": "StyleView",
            "description_width": ""
          }
        },
        "4781deecc0d040428d1fa6ae5075d15d": {
          "model_module": "@jupyter-widgets/base",
          "model_module_version": "1.2.0",
          "model_name": "LayoutModel",
          "state": {
            "_model_module": "@jupyter-widgets/base",
            "_model_module_version": "1.2.0",
            "_model_name": "LayoutModel",
            "_view_count": null,
            "_view_module": "@jupyter-widgets/base",
            "_view_module_version": "1.2.0",
            "_view_name": "LayoutView",
            "align_content": null,
            "align_items": null,
            "align_self": null,
            "border": null,
            "bottom": null,
            "display": null,
            "flex": null,
            "flex_flow": null,
            "grid_area": null,
            "grid_auto_columns": null,
            "grid_auto_flow": null,
            "grid_auto_rows": null,
            "grid_column": null,
            "grid_gap": null,
            "grid_row": null,
            "grid_template_areas": null,
            "grid_template_columns": null,
            "grid_template_rows": null,
            "height": null,
            "justify_content": null,
            "justify_items": null,
            "left": null,
            "margin": null,
            "max_height": null,
            "max_width": null,
            "min_height": null,
            "min_width": null,
            "object_fit": null,
            "object_position": null,
            "order": null,
            "overflow": null,
            "overflow_x": null,
            "overflow_y": null,
            "padding": null,
            "right": null,
            "top": null,
            "visibility": null,
            "width": null
          }
        },
        "49b7e92301ad42a0a7ff9e0fbd48b679": {
          "model_module": "@jupyter-widgets/controls",
          "model_module_version": "1.5.0",
          "model_name": "HBoxModel",
          "state": {
            "_dom_classes": [],
            "_model_module": "@jupyter-widgets/controls",
            "_model_module_version": "1.5.0",
            "_model_name": "HBoxModel",
            "_view_count": null,
            "_view_module": "@jupyter-widgets/controls",
            "_view_module_version": "1.5.0",
            "_view_name": "HBoxView",
            "box_style": "",
            "children": [
              "IPY_MODEL_f3f3c09eec174c62a09baffa2b196c93",
              "IPY_MODEL_8bbd7317c091412daf70ced4d3cb931c",
              "IPY_MODEL_c4cb20fe8ed241818af3a69a78b23643"
            ],
            "layout": "IPY_MODEL_27a484668c2a43de85b113d16e5e31ca"
          }
        },
        "4f5a1248e2064fd0ae6bc9243b193b2c": {
          "model_module": "@jupyter-widgets/controls",
          "model_module_version": "1.5.0",
          "model_name": "FloatProgressModel",
          "state": {
            "_dom_classes": [],
            "_model_module": "@jupyter-widgets/controls",
            "_model_module_version": "1.5.0",
            "_model_name": "FloatProgressModel",
            "_view_count": null,
            "_view_module": "@jupyter-widgets/controls",
            "_view_module_version": "1.5.0",
            "_view_name": "ProgressView",
            "bar_style": "success",
            "description": "",
            "description_tooltip": null,
            "layout": "IPY_MODEL_682dd6d545bc4889a6918c6a24a98fc4",
            "max": 29,
            "min": 0,
            "orientation": "horizontal",
            "style": "IPY_MODEL_3f734386da6240b599dde470fce923e6",
            "value": 29
          }
        },
        "503fa53803cd4138b392b418e987a20a": {
          "model_module": "@jupyter-widgets/base",
          "model_module_version": "1.2.0",
          "model_name": "LayoutModel",
          "state": {
            "_model_module": "@jupyter-widgets/base",
            "_model_module_version": "1.2.0",
            "_model_name": "LayoutModel",
            "_view_count": null,
            "_view_module": "@jupyter-widgets/base",
            "_view_module_version": "1.2.0",
            "_view_name": "LayoutView",
            "align_content": null,
            "align_items": null,
            "align_self": null,
            "border": null,
            "bottom": null,
            "display": null,
            "flex": null,
            "flex_flow": null,
            "grid_area": null,
            "grid_auto_columns": null,
            "grid_auto_flow": null,
            "grid_auto_rows": null,
            "grid_column": null,
            "grid_gap": null,
            "grid_row": null,
            "grid_template_areas": null,
            "grid_template_columns": null,
            "grid_template_rows": null,
            "height": null,
            "justify_content": null,
            "justify_items": null,
            "left": null,
            "margin": null,
            "max_height": null,
            "max_width": null,
            "min_height": null,
            "min_width": null,
            "object_fit": null,
            "object_position": null,
            "order": null,
            "overflow": null,
            "overflow_x": null,
            "overflow_y": null,
            "padding": null,
            "right": null,
            "top": null,
            "visibility": null,
            "width": null
          }
        },
        "507786644e0241b4a69ff7742286aea5": {
          "model_module": "@jupyter-widgets/controls",
          "model_module_version": "1.5.0",
          "model_name": "DescriptionStyleModel",
          "state": {
            "_model_module": "@jupyter-widgets/controls",
            "_model_module_version": "1.5.0",
            "_model_name": "DescriptionStyleModel",
            "_view_count": null,
            "_view_module": "@jupyter-widgets/base",
            "_view_module_version": "1.2.0",
            "_view_name": "StyleView",
            "description_width": ""
          }
        },
        "53814c29d4c44650ad4fbd999bfc78b9": {
          "model_module": "@jupyter-widgets/base",
          "model_module_version": "1.2.0",
          "model_name": "LayoutModel",
          "state": {
            "_model_module": "@jupyter-widgets/base",
            "_model_module_version": "1.2.0",
            "_model_name": "LayoutModel",
            "_view_count": null,
            "_view_module": "@jupyter-widgets/base",
            "_view_module_version": "1.2.0",
            "_view_name": "LayoutView",
            "align_content": null,
            "align_items": null,
            "align_self": null,
            "border": null,
            "bottom": null,
            "display": null,
            "flex": null,
            "flex_flow": null,
            "grid_area": null,
            "grid_auto_columns": null,
            "grid_auto_flow": null,
            "grid_auto_rows": null,
            "grid_column": null,
            "grid_gap": null,
            "grid_row": null,
            "grid_template_areas": null,
            "grid_template_columns": null,
            "grid_template_rows": null,
            "height": null,
            "justify_content": null,
            "justify_items": null,
            "left": null,
            "margin": null,
            "max_height": null,
            "max_width": null,
            "min_height": null,
            "min_width": null,
            "object_fit": null,
            "object_position": null,
            "order": null,
            "overflow": null,
            "overflow_x": null,
            "overflow_y": null,
            "padding": null,
            "right": null,
            "top": null,
            "visibility": null,
            "width": null
          }
        },
        "5577b177b5c54bcbafd8cd7a6ef2b004": {
          "model_module": "@jupyter-widgets/base",
          "model_module_version": "1.2.0",
          "model_name": "LayoutModel",
          "state": {
            "_model_module": "@jupyter-widgets/base",
            "_model_module_version": "1.2.0",
            "_model_name": "LayoutModel",
            "_view_count": null,
            "_view_module": "@jupyter-widgets/base",
            "_view_module_version": "1.2.0",
            "_view_name": "LayoutView",
            "align_content": null,
            "align_items": null,
            "align_self": null,
            "border": null,
            "bottom": null,
            "display": null,
            "flex": null,
            "flex_flow": null,
            "grid_area": null,
            "grid_auto_columns": null,
            "grid_auto_flow": null,
            "grid_auto_rows": null,
            "grid_column": null,
            "grid_gap": null,
            "grid_row": null,
            "grid_template_areas": null,
            "grid_template_columns": null,
            "grid_template_rows": null,
            "height": null,
            "justify_content": null,
            "justify_items": null,
            "left": null,
            "margin": null,
            "max_height": null,
            "max_width": null,
            "min_height": null,
            "min_width": null,
            "object_fit": null,
            "object_position": null,
            "order": null,
            "overflow": null,
            "overflow_x": null,
            "overflow_y": null,
            "padding": null,
            "right": null,
            "top": null,
            "visibility": null,
            "width": null
          }
        },
        "59446ac9a79949c89d9d57906d1ed4d0": {
          "model_module": "@jupyter-widgets/controls",
          "model_module_version": "1.5.0",
          "model_name": "HTMLModel",
          "state": {
            "_dom_classes": [],
            "_model_module": "@jupyter-widgets/controls",
            "_model_module_version": "1.5.0",
            "_model_name": "HTMLModel",
            "_view_count": null,
            "_view_module": "@jupyter-widgets/controls",
            "_view_module_version": "1.5.0",
            "_view_name": "HTMLView",
            "description": "",
            "description_tooltip": null,
            "layout": "IPY_MODEL_59da23e74f8c425fa2c89cc6a3c5f48a",
            "placeholder": "​",
            "style": "IPY_MODEL_fb1b0a2e7a8947d28c70906ccf48b365",
            "value": " 570/570 [00:00&lt;00:00, 12.8kB/s]"
          }
        },
        "59da23e74f8c425fa2c89cc6a3c5f48a": {
          "model_module": "@jupyter-widgets/base",
          "model_module_version": "1.2.0",
          "model_name": "LayoutModel",
          "state": {
            "_model_module": "@jupyter-widgets/base",
            "_model_module_version": "1.2.0",
            "_model_name": "LayoutModel",
            "_view_count": null,
            "_view_module": "@jupyter-widgets/base",
            "_view_module_version": "1.2.0",
            "_view_name": "LayoutView",
            "align_content": null,
            "align_items": null,
            "align_self": null,
            "border": null,
            "bottom": null,
            "display": null,
            "flex": null,
            "flex_flow": null,
            "grid_area": null,
            "grid_auto_columns": null,
            "grid_auto_flow": null,
            "grid_auto_rows": null,
            "grid_column": null,
            "grid_gap": null,
            "grid_row": null,
            "grid_template_areas": null,
            "grid_template_columns": null,
            "grid_template_rows": null,
            "height": null,
            "justify_content": null,
            "justify_items": null,
            "left": null,
            "margin": null,
            "max_height": null,
            "max_width": null,
            "min_height": null,
            "min_width": null,
            "object_fit": null,
            "object_position": null,
            "order": null,
            "overflow": null,
            "overflow_x": null,
            "overflow_y": null,
            "padding": null,
            "right": null,
            "top": null,
            "visibility": null,
            "width": null
          }
        },
        "5c0ec9f83a7d4a36a6a4853baf835fa7": {
          "model_module": "@jupyter-widgets/base",
          "model_module_version": "1.2.0",
          "model_name": "LayoutModel",
          "state": {
            "_model_module": "@jupyter-widgets/base",
            "_model_module_version": "1.2.0",
            "_model_name": "LayoutModel",
            "_view_count": null,
            "_view_module": "@jupyter-widgets/base",
            "_view_module_version": "1.2.0",
            "_view_name": "LayoutView",
            "align_content": null,
            "align_items": null,
            "align_self": null,
            "border": null,
            "bottom": null,
            "display": null,
            "flex": null,
            "flex_flow": null,
            "grid_area": null,
            "grid_auto_columns": null,
            "grid_auto_flow": null,
            "grid_auto_rows": null,
            "grid_column": null,
            "grid_gap": null,
            "grid_row": null,
            "grid_template_areas": null,
            "grid_template_columns": null,
            "grid_template_rows": null,
            "height": null,
            "justify_content": null,
            "justify_items": null,
            "left": null,
            "margin": null,
            "max_height": null,
            "max_width": null,
            "min_height": null,
            "min_width": null,
            "object_fit": null,
            "object_position": null,
            "order": null,
            "overflow": null,
            "overflow_x": null,
            "overflow_y": null,
            "padding": null,
            "right": null,
            "top": null,
            "visibility": null,
            "width": null
          }
        },
        "6788b0d3575546d4a12e86b8e7f97b09": {
          "model_module": "@jupyter-widgets/controls",
          "model_module_version": "1.5.0",
          "model_name": "HBoxModel",
          "state": {
            "_dom_classes": [],
            "_model_module": "@jupyter-widgets/controls",
            "_model_module_version": "1.5.0",
            "_model_name": "HBoxModel",
            "_view_count": null,
            "_view_module": "@jupyter-widgets/controls",
            "_view_module_version": "1.5.0",
            "_view_name": "HBoxView",
            "box_style": "",
            "children": [
              "IPY_MODEL_44ea5c29dd8e4cac9912e79b14795391",
              "IPY_MODEL_4f5a1248e2064fd0ae6bc9243b193b2c",
              "IPY_MODEL_9eaeba2390d847a6aaf7bf7d87cd7cb6"
            ],
            "layout": "IPY_MODEL_0e053187d6f649b0889adfa19dbd565b"
          }
        },
        "682dd6d545bc4889a6918c6a24a98fc4": {
          "model_module": "@jupyter-widgets/base",
          "model_module_version": "1.2.0",
          "model_name": "LayoutModel",
          "state": {
            "_model_module": "@jupyter-widgets/base",
            "_model_module_version": "1.2.0",
            "_model_name": "LayoutModel",
            "_view_count": null,
            "_view_module": "@jupyter-widgets/base",
            "_view_module_version": "1.2.0",
            "_view_name": "LayoutView",
            "align_content": null,
            "align_items": null,
            "align_self": null,
            "border": null,
            "bottom": null,
            "display": null,
            "flex": null,
            "flex_flow": null,
            "grid_area": null,
            "grid_auto_columns": null,
            "grid_auto_flow": null,
            "grid_auto_rows": null,
            "grid_column": null,
            "grid_gap": null,
            "grid_row": null,
            "grid_template_areas": null,
            "grid_template_columns": null,
            "grid_template_rows": null,
            "height": null,
            "justify_content": null,
            "justify_items": null,
            "left": null,
            "margin": null,
            "max_height": null,
            "max_width": null,
            "min_height": null,
            "min_width": null,
            "object_fit": null,
            "object_position": null,
            "order": null,
            "overflow": null,
            "overflow_x": null,
            "overflow_y": null,
            "padding": null,
            "right": null,
            "top": null,
            "visibility": null,
            "width": null
          }
        },
        "6bbbd78c977f46cd984a2ad2b67050dd": {
          "model_module": "@jupyter-widgets/controls",
          "model_module_version": "1.5.0",
          "model_name": "DescriptionStyleModel",
          "state": {
            "_model_module": "@jupyter-widgets/controls",
            "_model_module_version": "1.5.0",
            "_model_name": "DescriptionStyleModel",
            "_view_count": null,
            "_view_module": "@jupyter-widgets/base",
            "_view_module_version": "1.2.0",
            "_view_name": "StyleView",
            "description_width": ""
          }
        },
        "6d3c259bb2a344e5b811c7b9d469f7e4": {
          "model_module": "@jupyter-widgets/controls",
          "model_module_version": "1.5.0",
          "model_name": "HBoxModel",
          "state": {
            "_dom_classes": [],
            "_model_module": "@jupyter-widgets/controls",
            "_model_module_version": "1.5.0",
            "_model_name": "HBoxModel",
            "_view_count": null,
            "_view_module": "@jupyter-widgets/controls",
            "_view_module_version": "1.5.0",
            "_view_name": "HBoxView",
            "box_style": "",
            "children": [
              "IPY_MODEL_9cf5f9cbc2bb4155850e7ae556dc633f",
              "IPY_MODEL_01f0223dd4094c9792523fe9c0a7ebb3",
              "IPY_MODEL_59446ac9a79949c89d9d57906d1ed4d0"
            ],
            "layout": "IPY_MODEL_f56f272a704d4d8090e9daa6b9b5ae4d"
          }
        },
        "74a81a092a6c4ca3973fa1b4cdfee19a": {
          "model_module": "@jupyter-widgets/controls",
          "model_module_version": "1.5.0",
          "model_name": "HTMLModel",
          "state": {
            "_dom_classes": [],
            "_model_module": "@jupyter-widgets/controls",
            "_model_module_version": "1.5.0",
            "_model_name": "HTMLModel",
            "_view_count": null,
            "_view_module": "@jupyter-widgets/controls",
            "_view_module_version": "1.5.0",
            "_view_name": "HTMLView",
            "description": "",
            "description_tooltip": null,
            "layout": "IPY_MODEL_503fa53803cd4138b392b418e987a20a",
            "placeholder": "​",
            "style": "IPY_MODEL_f6a875201dae461d8751024238add018",
            "value": "Downloading (…)solve/main/vocab.txt: 100%"
          }
        },
        "796080b991ad4792866f088d1f75a6ff": {
          "model_module": "@jupyter-widgets/controls",
          "model_module_version": "1.5.0",
          "model_name": "DescriptionStyleModel",
          "state": {
            "_model_module": "@jupyter-widgets/controls",
            "_model_module_version": "1.5.0",
            "_model_name": "DescriptionStyleModel",
            "_view_count": null,
            "_view_module": "@jupyter-widgets/base",
            "_view_module_version": "1.2.0",
            "_view_name": "StyleView",
            "description_width": ""
          }
        },
        "7d2bd47f491b487f85ee719e000a5ac4": {
          "model_module": "@jupyter-widgets/controls",
          "model_module_version": "1.5.0",
          "model_name": "HTMLModel",
          "state": {
            "_dom_classes": [],
            "_model_module": "@jupyter-widgets/controls",
            "_model_module_version": "1.5.0",
            "_model_name": "HTMLModel",
            "_view_count": null,
            "_view_module": "@jupyter-widgets/controls",
            "_view_module_version": "1.5.0",
            "_view_name": "HTMLView",
            "description": "",
            "description_tooltip": null,
            "layout": "IPY_MODEL_ae1b0fd600994246a4185b9dace6337b",
            "placeholder": "​",
            "style": "IPY_MODEL_507786644e0241b4a69ff7742286aea5",
            "value": " 0/1 [00:00&lt;?, ?it/s]"
          }
        },
        "7f88be808c95440794bc949b01485891": {
          "model_module": "@jupyter-widgets/controls",
          "model_module_version": "1.5.0",
          "model_name": "HTMLModel",
          "state": {
            "_dom_classes": [],
            "_model_module": "@jupyter-widgets/controls",
            "_model_module_version": "1.5.0",
            "_model_name": "HTMLModel",
            "_view_count": null,
            "_view_module": "@jupyter-widgets/controls",
            "_view_module_version": "1.5.0",
            "_view_name": "HTMLView",
            "description": "",
            "description_tooltip": null,
            "layout": "IPY_MODEL_5577b177b5c54bcbafd8cd7a6ef2b004",
            "placeholder": "​",
            "style": "IPY_MODEL_6bbbd78c977f46cd984a2ad2b67050dd",
            "value": "Epoch 1 of 1:   0%"
          }
        },
        "81144ddc0ffb4d919e76ece4d91aa4fa": {
          "model_module": "@jupyter-widgets/controls",
          "model_module_version": "1.5.0",
          "model_name": "HTMLModel",
          "state": {
            "_dom_classes": [],
            "_model_module": "@jupyter-widgets/controls",
            "_model_module_version": "1.5.0",
            "_model_name": "HTMLModel",
            "_view_count": null,
            "_view_module": "@jupyter-widgets/controls",
            "_view_module_version": "1.5.0",
            "_view_name": "HTMLView",
            "description": "",
            "description_tooltip": null,
            "layout": "IPY_MODEL_2ffa27cba4014fd48b3c9166e92d5a85",
            "placeholder": "​",
            "style": "IPY_MODEL_796080b991ad4792866f088d1f75a6ff",
            "value": " 436k/436k [00:00&lt;00:00, 2.18MB/s]"
          }
        },
        "82a3f81ff35d443d8db003221ab4458b": {
          "model_module": "@jupyter-widgets/base",
          "model_module_version": "1.2.0",
          "model_name": "LayoutModel",
          "state": {
            "_model_module": "@jupyter-widgets/base",
            "_model_module_version": "1.2.0",
            "_model_name": "LayoutModel",
            "_view_count": null,
            "_view_module": "@jupyter-widgets/base",
            "_view_module_version": "1.2.0",
            "_view_name": "LayoutView",
            "align_content": null,
            "align_items": null,
            "align_self": null,
            "border": null,
            "bottom": null,
            "display": null,
            "flex": null,
            "flex_flow": null,
            "grid_area": null,
            "grid_auto_columns": null,
            "grid_auto_flow": null,
            "grid_auto_rows": null,
            "grid_column": null,
            "grid_gap": null,
            "grid_row": null,
            "grid_template_areas": null,
            "grid_template_columns": null,
            "grid_template_rows": null,
            "height": null,
            "justify_content": null,
            "justify_items": null,
            "left": null,
            "margin": null,
            "max_height": null,
            "max_width": null,
            "min_height": null,
            "min_width": null,
            "object_fit": null,
            "object_position": null,
            "order": null,
            "overflow": null,
            "overflow_x": null,
            "overflow_y": null,
            "padding": null,
            "right": null,
            "top": null,
            "visibility": null,
            "width": null
          }
        },
        "838a750d6af146bd95a2b92820ec3e24": {
          "model_module": "@jupyter-widgets/base",
          "model_module_version": "1.2.0",
          "model_name": "LayoutModel",
          "state": {
            "_model_module": "@jupyter-widgets/base",
            "_model_module_version": "1.2.0",
            "_model_name": "LayoutModel",
            "_view_count": null,
            "_view_module": "@jupyter-widgets/base",
            "_view_module_version": "1.2.0",
            "_view_name": "LayoutView",
            "align_content": null,
            "align_items": null,
            "align_self": null,
            "border": null,
            "bottom": null,
            "display": null,
            "flex": null,
            "flex_flow": null,
            "grid_area": null,
            "grid_auto_columns": null,
            "grid_auto_flow": null,
            "grid_auto_rows": null,
            "grid_column": null,
            "grid_gap": null,
            "grid_row": null,
            "grid_template_areas": null,
            "grid_template_columns": null,
            "grid_template_rows": null,
            "height": null,
            "justify_content": null,
            "justify_items": null,
            "left": null,
            "margin": null,
            "max_height": null,
            "max_width": null,
            "min_height": null,
            "min_width": null,
            "object_fit": null,
            "object_position": null,
            "order": null,
            "overflow": null,
            "overflow_x": null,
            "overflow_y": null,
            "padding": null,
            "right": null,
            "top": null,
            "visibility": null,
            "width": null
          }
        },
        "851ebfd1f16d4cf0af38c5b4e257ca37": {
          "model_module": "@jupyter-widgets/base",
          "model_module_version": "1.2.0",
          "model_name": "LayoutModel",
          "state": {
            "_model_module": "@jupyter-widgets/base",
            "_model_module_version": "1.2.0",
            "_model_name": "LayoutModel",
            "_view_count": null,
            "_view_module": "@jupyter-widgets/base",
            "_view_module_version": "1.2.0",
            "_view_name": "LayoutView",
            "align_content": null,
            "align_items": null,
            "align_self": null,
            "border": null,
            "bottom": null,
            "display": null,
            "flex": null,
            "flex_flow": null,
            "grid_area": null,
            "grid_auto_columns": null,
            "grid_auto_flow": null,
            "grid_auto_rows": null,
            "grid_column": null,
            "grid_gap": null,
            "grid_row": null,
            "grid_template_areas": null,
            "grid_template_columns": null,
            "grid_template_rows": null,
            "height": null,
            "justify_content": null,
            "justify_items": null,
            "left": null,
            "margin": null,
            "max_height": null,
            "max_width": null,
            "min_height": null,
            "min_width": null,
            "object_fit": null,
            "object_position": null,
            "order": null,
            "overflow": null,
            "overflow_x": null,
            "overflow_y": null,
            "padding": null,
            "right": null,
            "top": null,
            "visibility": null,
            "width": null
          }
        },
        "85c24522e95c4546ad355c89514de536": {
          "model_module": "@jupyter-widgets/controls",
          "model_module_version": "1.5.0",
          "model_name": "ProgressStyleModel",
          "state": {
            "_model_module": "@jupyter-widgets/controls",
            "_model_module_version": "1.5.0",
            "_model_name": "ProgressStyleModel",
            "_view_count": null,
            "_view_module": "@jupyter-widgets/base",
            "_view_module_version": "1.2.0",
            "_view_name": "StyleView",
            "bar_color": null,
            "description_width": ""
          }
        },
        "8bbd7317c091412daf70ced4d3cb931c": {
          "model_module": "@jupyter-widgets/controls",
          "model_module_version": "1.5.0",
          "model_name": "FloatProgressModel",
          "state": {
            "_dom_classes": [],
            "_model_module": "@jupyter-widgets/controls",
            "_model_module_version": "1.5.0",
            "_model_name": "FloatProgressModel",
            "_view_count": null,
            "_view_module": "@jupyter-widgets/controls",
            "_view_module_version": "1.5.0",
            "_view_name": "ProgressView",
            "bar_style": "",
            "description": "",
            "description_tooltip": null,
            "layout": "IPY_MODEL_5c0ec9f83a7d4a36a6a4853baf835fa7",
            "max": 1988,
            "min": 0,
            "orientation": "horizontal",
            "style": "IPY_MODEL_d1e97e6be31a4f7db24cbb73a9a5e0ef",
            "value": 1137
          }
        },
        "9147d74cbec443828b0e5dd61cdc04e5": {
          "model_module": "@jupyter-widgets/controls",
          "model_module_version": "1.5.0",
          "model_name": "ProgressStyleModel",
          "state": {
            "_model_module": "@jupyter-widgets/controls",
            "_model_module_version": "1.5.0",
            "_model_name": "ProgressStyleModel",
            "_view_count": null,
            "_view_module": "@jupyter-widgets/base",
            "_view_module_version": "1.2.0",
            "_view_name": "StyleView",
            "bar_color": null,
            "description_width": ""
          }
        },
        "938ad1045cab4b75aae87e5f8ef96e23": {
          "model_module": "@jupyter-widgets/controls",
          "model_module_version": "1.5.0",
          "model_name": "ProgressStyleModel",
          "state": {
            "_model_module": "@jupyter-widgets/controls",
            "_model_module_version": "1.5.0",
            "_model_name": "ProgressStyleModel",
            "_view_count": null,
            "_view_module": "@jupyter-widgets/base",
            "_view_module_version": "1.2.0",
            "_view_name": "StyleView",
            "bar_color": null,
            "description_width": ""
          }
        },
        "964ec2b3b75b4beba9a3deb33316dd6e": {
          "model_module": "@jupyter-widgets/controls",
          "model_module_version": "1.5.0",
          "model_name": "HTMLModel",
          "state": {
            "_dom_classes": [],
            "_model_module": "@jupyter-widgets/controls",
            "_model_module_version": "1.5.0",
            "_model_name": "HTMLModel",
            "_view_count": null,
            "_view_module": "@jupyter-widgets/controls",
            "_view_module_version": "1.5.0",
            "_view_name": "HTMLView",
            "description": "",
            "description_tooltip": null,
            "layout": "IPY_MODEL_ad278002623d409c9395de1571eb247a",
            "placeholder": "​",
            "style": "IPY_MODEL_a3359eb826da4106867a708fb24af0a4",
            "value": " 213k/213k [00:00&lt;00:00, 1.56MB/s]"
          }
        },
        "9cf5f9cbc2bb4155850e7ae556dc633f": {
          "model_module": "@jupyter-widgets/controls",
          "model_module_version": "1.5.0",
          "model_name": "HTMLModel",
          "state": {
            "_dom_classes": [],
            "_model_module": "@jupyter-widgets/controls",
            "_model_module_version": "1.5.0",
            "_model_name": "HTMLModel",
            "_view_count": null,
            "_view_module": "@jupyter-widgets/controls",
            "_view_module_version": "1.5.0",
            "_view_name": "HTMLView",
            "description": "",
            "description_tooltip": null,
            "layout": "IPY_MODEL_838a750d6af146bd95a2b92820ec3e24",
            "placeholder": "​",
            "style": "IPY_MODEL_f38e3f2f9d6f4688810e6e7ce02b1e62",
            "value": "Downloading (…)lve/main/config.json: 100%"
          }
        },
        "9eaeba2390d847a6aaf7bf7d87cd7cb6": {
          "model_module": "@jupyter-widgets/controls",
          "model_module_version": "1.5.0",
          "model_name": "HTMLModel",
          "state": {
            "_dom_classes": [],
            "_model_module": "@jupyter-widgets/controls",
            "_model_module_version": "1.5.0",
            "_model_name": "HTMLModel",
            "_view_count": null,
            "_view_module": "@jupyter-widgets/controls",
            "_view_module_version": "1.5.0",
            "_view_name": "HTMLView",
            "description": "",
            "description_tooltip": null,
            "layout": "IPY_MODEL_9f9546d8ae12463bb6cd34e7eb2f28f6",
            "placeholder": "​",
            "style": "IPY_MODEL_a8ac23230ba540a5a6d7c854291ed230",
            "value": " 29.0/29.0 [00:00&lt;00:00, 820B/s]"
          }
        },
        "9f9546d8ae12463bb6cd34e7eb2f28f6": {
          "model_module": "@jupyter-widgets/base",
          "model_module_version": "1.2.0",
          "model_name": "LayoutModel",
          "state": {
            "_model_module": "@jupyter-widgets/base",
            "_model_module_version": "1.2.0",
            "_model_name": "LayoutModel",
            "_view_count": null,
            "_view_module": "@jupyter-widgets/base",
            "_view_module_version": "1.2.0",
            "_view_name": "LayoutView",
            "align_content": null,
            "align_items": null,
            "align_self": null,
            "border": null,
            "bottom": null,
            "display": null,
            "flex": null,
            "flex_flow": null,
            "grid_area": null,
            "grid_auto_columns": null,
            "grid_auto_flow": null,
            "grid_auto_rows": null,
            "grid_column": null,
            "grid_gap": null,
            "grid_row": null,
            "grid_template_areas": null,
            "grid_template_columns": null,
            "grid_template_rows": null,
            "height": null,
            "justify_content": null,
            "justify_items": null,
            "left": null,
            "margin": null,
            "max_height": null,
            "max_width": null,
            "min_height": null,
            "min_width": null,
            "object_fit": null,
            "object_position": null,
            "order": null,
            "overflow": null,
            "overflow_x": null,
            "overflow_y": null,
            "padding": null,
            "right": null,
            "top": null,
            "visibility": null,
            "width": null
          }
        },
        "a3359eb826da4106867a708fb24af0a4": {
          "model_module": "@jupyter-widgets/controls",
          "model_module_version": "1.5.0",
          "model_name": "DescriptionStyleModel",
          "state": {
            "_model_module": "@jupyter-widgets/controls",
            "_model_module_version": "1.5.0",
            "_model_name": "DescriptionStyleModel",
            "_view_count": null,
            "_view_module": "@jupyter-widgets/base",
            "_view_module_version": "1.2.0",
            "_view_name": "StyleView",
            "description_width": ""
          }
        },
        "a858127035394199b7284d11a8bf9795": {
          "model_module": "@jupyter-widgets/base",
          "model_module_version": "1.2.0",
          "model_name": "LayoutModel",
          "state": {
            "_model_module": "@jupyter-widgets/base",
            "_model_module_version": "1.2.0",
            "_model_name": "LayoutModel",
            "_view_count": null,
            "_view_module": "@jupyter-widgets/base",
            "_view_module_version": "1.2.0",
            "_view_name": "LayoutView",
            "align_content": null,
            "align_items": null,
            "align_self": null,
            "border": null,
            "bottom": null,
            "display": null,
            "flex": null,
            "flex_flow": null,
            "grid_area": null,
            "grid_auto_columns": null,
            "grid_auto_flow": null,
            "grid_auto_rows": null,
            "grid_column": null,
            "grid_gap": null,
            "grid_row": null,
            "grid_template_areas": null,
            "grid_template_columns": null,
            "grid_template_rows": null,
            "height": null,
            "justify_content": null,
            "justify_items": null,
            "left": null,
            "margin": null,
            "max_height": null,
            "max_width": null,
            "min_height": null,
            "min_width": null,
            "object_fit": null,
            "object_position": null,
            "order": null,
            "overflow": null,
            "overflow_x": null,
            "overflow_y": null,
            "padding": null,
            "right": null,
            "top": null,
            "visibility": null,
            "width": null
          }
        },
        "a8ac23230ba540a5a6d7c854291ed230": {
          "model_module": "@jupyter-widgets/controls",
          "model_module_version": "1.5.0",
          "model_name": "DescriptionStyleModel",
          "state": {
            "_model_module": "@jupyter-widgets/controls",
            "_model_module_version": "1.5.0",
            "_model_name": "DescriptionStyleModel",
            "_view_count": null,
            "_view_module": "@jupyter-widgets/base",
            "_view_module_version": "1.2.0",
            "_view_name": "StyleView",
            "description_width": ""
          }
        },
        "ad278002623d409c9395de1571eb247a": {
          "model_module": "@jupyter-widgets/base",
          "model_module_version": "1.2.0",
          "model_name": "LayoutModel",
          "state": {
            "_model_module": "@jupyter-widgets/base",
            "_model_module_version": "1.2.0",
            "_model_name": "LayoutModel",
            "_view_count": null,
            "_view_module": "@jupyter-widgets/base",
            "_view_module_version": "1.2.0",
            "_view_name": "LayoutView",
            "align_content": null,
            "align_items": null,
            "align_self": null,
            "border": null,
            "bottom": null,
            "display": null,
            "flex": null,
            "flex_flow": null,
            "grid_area": null,
            "grid_auto_columns": null,
            "grid_auto_flow": null,
            "grid_auto_rows": null,
            "grid_column": null,
            "grid_gap": null,
            "grid_row": null,
            "grid_template_areas": null,
            "grid_template_columns": null,
            "grid_template_rows": null,
            "height": null,
            "justify_content": null,
            "justify_items": null,
            "left": null,
            "margin": null,
            "max_height": null,
            "max_width": null,
            "min_height": null,
            "min_width": null,
            "object_fit": null,
            "object_position": null,
            "order": null,
            "overflow": null,
            "overflow_x": null,
            "overflow_y": null,
            "padding": null,
            "right": null,
            "top": null,
            "visibility": null,
            "width": null
          }
        },
        "ae1b0fd600994246a4185b9dace6337b": {
          "model_module": "@jupyter-widgets/base",
          "model_module_version": "1.2.0",
          "model_name": "LayoutModel",
          "state": {
            "_model_module": "@jupyter-widgets/base",
            "_model_module_version": "1.2.0",
            "_model_name": "LayoutModel",
            "_view_count": null,
            "_view_module": "@jupyter-widgets/base",
            "_view_module_version": "1.2.0",
            "_view_name": "LayoutView",
            "align_content": null,
            "align_items": null,
            "align_self": null,
            "border": null,
            "bottom": null,
            "display": null,
            "flex": null,
            "flex_flow": null,
            "grid_area": null,
            "grid_auto_columns": null,
            "grid_auto_flow": null,
            "grid_auto_rows": null,
            "grid_column": null,
            "grid_gap": null,
            "grid_row": null,
            "grid_template_areas": null,
            "grid_template_columns": null,
            "grid_template_rows": null,
            "height": null,
            "justify_content": null,
            "justify_items": null,
            "left": null,
            "margin": null,
            "max_height": null,
            "max_width": null,
            "min_height": null,
            "min_width": null,
            "object_fit": null,
            "object_position": null,
            "order": null,
            "overflow": null,
            "overflow_x": null,
            "overflow_y": null,
            "padding": null,
            "right": null,
            "top": null,
            "visibility": null,
            "width": null
          }
        },
        "b276ab00392440d7ae256b72fa6f6b88": {
          "model_module": "@jupyter-widgets/base",
          "model_module_version": "1.2.0",
          "model_name": "LayoutModel",
          "state": {
            "_model_module": "@jupyter-widgets/base",
            "_model_module_version": "1.2.0",
            "_model_name": "LayoutModel",
            "_view_count": null,
            "_view_module": "@jupyter-widgets/base",
            "_view_module_version": "1.2.0",
            "_view_name": "LayoutView",
            "align_content": null,
            "align_items": null,
            "align_self": null,
            "border": null,
            "bottom": null,
            "display": null,
            "flex": null,
            "flex_flow": null,
            "grid_area": null,
            "grid_auto_columns": null,
            "grid_auto_flow": null,
            "grid_auto_rows": null,
            "grid_column": null,
            "grid_gap": null,
            "grid_row": null,
            "grid_template_areas": null,
            "grid_template_columns": null,
            "grid_template_rows": null,
            "height": null,
            "justify_content": null,
            "justify_items": null,
            "left": null,
            "margin": null,
            "max_height": null,
            "max_width": null,
            "min_height": null,
            "min_width": null,
            "object_fit": null,
            "object_position": null,
            "order": null,
            "overflow": null,
            "overflow_x": null,
            "overflow_y": null,
            "padding": null,
            "right": null,
            "top": null,
            "visibility": null,
            "width": null
          }
        },
        "b5672f4388ab4f8ebd9bc5d5b84a6315": {
          "model_module": "@jupyter-widgets/controls",
          "model_module_version": "1.5.0",
          "model_name": "DescriptionStyleModel",
          "state": {
            "_model_module": "@jupyter-widgets/controls",
            "_model_module_version": "1.5.0",
            "_model_name": "DescriptionStyleModel",
            "_view_count": null,
            "_view_module": "@jupyter-widgets/base",
            "_view_module_version": "1.2.0",
            "_view_name": "StyleView",
            "description_width": ""
          }
        },
        "b94ea46bb2d94e2e8e9c7b4abf781612": {
          "model_module": "@jupyter-widgets/controls",
          "model_module_version": "1.5.0",
          "model_name": "DescriptionStyleModel",
          "state": {
            "_model_module": "@jupyter-widgets/controls",
            "_model_module_version": "1.5.0",
            "_model_name": "DescriptionStyleModel",
            "_view_count": null,
            "_view_module": "@jupyter-widgets/base",
            "_view_module_version": "1.2.0",
            "_view_name": "StyleView",
            "description_width": ""
          }
        },
        "bb80c63ace034041b80b8b63f542c3de": {
          "model_module": "@jupyter-widgets/controls",
          "model_module_version": "1.5.0",
          "model_name": "DescriptionStyleModel",
          "state": {
            "_model_module": "@jupyter-widgets/controls",
            "_model_module_version": "1.5.0",
            "_model_name": "DescriptionStyleModel",
            "_view_count": null,
            "_view_module": "@jupyter-widgets/base",
            "_view_module_version": "1.2.0",
            "_view_name": "StyleView",
            "description_width": ""
          }
        },
        "bd9b25fa673e4afaa4a7049d2916eba0": {
          "model_module": "@jupyter-widgets/base",
          "model_module_version": "1.2.0",
          "model_name": "LayoutModel",
          "state": {
            "_model_module": "@jupyter-widgets/base",
            "_model_module_version": "1.2.0",
            "_model_name": "LayoutModel",
            "_view_count": null,
            "_view_module": "@jupyter-widgets/base",
            "_view_module_version": "1.2.0",
            "_view_name": "LayoutView",
            "align_content": null,
            "align_items": null,
            "align_self": null,
            "border": null,
            "bottom": null,
            "display": null,
            "flex": null,
            "flex_flow": null,
            "grid_area": null,
            "grid_auto_columns": null,
            "grid_auto_flow": null,
            "grid_auto_rows": null,
            "grid_column": null,
            "grid_gap": null,
            "grid_row": null,
            "grid_template_areas": null,
            "grid_template_columns": null,
            "grid_template_rows": null,
            "height": null,
            "justify_content": null,
            "justify_items": null,
            "left": null,
            "margin": null,
            "max_height": null,
            "max_width": null,
            "min_height": null,
            "min_width": null,
            "object_fit": null,
            "object_position": null,
            "order": null,
            "overflow": null,
            "overflow_x": null,
            "overflow_y": null,
            "padding": null,
            "right": null,
            "top": null,
            "visibility": null,
            "width": null
          }
        },
        "bf4efd31d1af4960afbec9d3eff84e88": {
          "model_module": "@jupyter-widgets/controls",
          "model_module_version": "1.5.0",
          "model_name": "FloatProgressModel",
          "state": {
            "_dom_classes": [],
            "_model_module": "@jupyter-widgets/controls",
            "_model_module_version": "1.5.0",
            "_model_name": "FloatProgressModel",
            "_view_count": null,
            "_view_module": "@jupyter-widgets/controls",
            "_view_module_version": "1.5.0",
            "_view_name": "ProgressView",
            "bar_style": "danger",
            "description": "",
            "description_tooltip": null,
            "layout": "IPY_MODEL_b276ab00392440d7ae256b72fa6f6b88",
            "max": 15900,
            "min": 0,
            "orientation": "horizontal",
            "style": "IPY_MODEL_85c24522e95c4546ad355c89514de536",
            "value": 32
          }
        },
        "c3bfd75ce0cb492c916d8e2659fa66ff": {
          "model_module": "@jupyter-widgets/controls",
          "model_module_version": "1.5.0",
          "model_name": "ProgressStyleModel",
          "state": {
            "_model_module": "@jupyter-widgets/controls",
            "_model_module_version": "1.5.0",
            "_model_name": "ProgressStyleModel",
            "_view_count": null,
            "_view_module": "@jupyter-widgets/base",
            "_view_module_version": "1.2.0",
            "_view_name": "StyleView",
            "bar_color": null,
            "description_width": ""
          }
        },
        "c4cb20fe8ed241818af3a69a78b23643": {
          "model_module": "@jupyter-widgets/controls",
          "model_module_version": "1.5.0",
          "model_name": "HTMLModel",
          "state": {
            "_dom_classes": [],
            "_model_module": "@jupyter-widgets/controls",
            "_model_module_version": "1.5.0",
            "_model_name": "HTMLModel",
            "_view_count": null,
            "_view_module": "@jupyter-widgets/controls",
            "_view_module_version": "1.5.0",
            "_view_name": "HTMLView",
            "description": "",
            "description_tooltip": null,
            "layout": "IPY_MODEL_53814c29d4c44650ad4fbd999bfc78b9",
            "placeholder": "​",
            "style": "IPY_MODEL_b5672f4388ab4f8ebd9bc5d5b84a6315",
            "value": " 1137/1988 [3:19:30&lt;2:25:49, 10.28s/it]"
          }
        },
        "c69a4ffbb2d447b5a48f8927b6de1024": {
          "model_module": "@jupyter-widgets/base",
          "model_module_version": "1.2.0",
          "model_name": "LayoutModel",
          "state": {
            "_model_module": "@jupyter-widgets/base",
            "_model_module_version": "1.2.0",
            "_model_name": "LayoutModel",
            "_view_count": null,
            "_view_module": "@jupyter-widgets/base",
            "_view_module_version": "1.2.0",
            "_view_name": "LayoutView",
            "align_content": null,
            "align_items": null,
            "align_self": null,
            "border": null,
            "bottom": null,
            "display": null,
            "flex": null,
            "flex_flow": null,
            "grid_area": null,
            "grid_auto_columns": null,
            "grid_auto_flow": null,
            "grid_auto_rows": null,
            "grid_column": null,
            "grid_gap": null,
            "grid_row": null,
            "grid_template_areas": null,
            "grid_template_columns": null,
            "grid_template_rows": null,
            "height": null,
            "justify_content": null,
            "justify_items": null,
            "left": null,
            "margin": null,
            "max_height": null,
            "max_width": null,
            "min_height": null,
            "min_width": null,
            "object_fit": null,
            "object_position": null,
            "order": null,
            "overflow": null,
            "overflow_x": null,
            "overflow_y": null,
            "padding": null,
            "right": null,
            "top": null,
            "visibility": null,
            "width": null
          }
        },
        "c77d9c358f644c939959b17896634993": {
          "model_module": "@jupyter-widgets/base",
          "model_module_version": "1.2.0",
          "model_name": "LayoutModel",
          "state": {
            "_model_module": "@jupyter-widgets/base",
            "_model_module_version": "1.2.0",
            "_model_name": "LayoutModel",
            "_view_count": null,
            "_view_module": "@jupyter-widgets/base",
            "_view_module_version": "1.2.0",
            "_view_name": "LayoutView",
            "align_content": null,
            "align_items": null,
            "align_self": null,
            "border": null,
            "bottom": null,
            "display": null,
            "flex": null,
            "flex_flow": null,
            "grid_area": null,
            "grid_auto_columns": null,
            "grid_auto_flow": null,
            "grid_auto_rows": null,
            "grid_column": null,
            "grid_gap": null,
            "grid_row": null,
            "grid_template_areas": null,
            "grid_template_columns": null,
            "grid_template_rows": null,
            "height": null,
            "justify_content": null,
            "justify_items": null,
            "left": null,
            "margin": null,
            "max_height": null,
            "max_width": null,
            "min_height": null,
            "min_width": null,
            "object_fit": null,
            "object_position": null,
            "order": null,
            "overflow": null,
            "overflow_x": null,
            "overflow_y": null,
            "padding": null,
            "right": null,
            "top": null,
            "visibility": null,
            "width": null
          }
        },
        "c9be6e9a0e8d4f1aa13b8114f7b6225b": {
          "model_module": "@jupyter-widgets/controls",
          "model_module_version": "1.5.0",
          "model_name": "HTMLModel",
          "state": {
            "_dom_classes": [],
            "_model_module": "@jupyter-widgets/controls",
            "_model_module_version": "1.5.0",
            "_model_name": "HTMLModel",
            "_view_count": null,
            "_view_module": "@jupyter-widgets/controls",
            "_view_module_version": "1.5.0",
            "_view_name": "HTMLView",
            "description": "",
            "description_tooltip": null,
            "layout": "IPY_MODEL_bd9b25fa673e4afaa4a7049d2916eba0",
            "placeholder": "​",
            "style": "IPY_MODEL_10cb66121eb9453caa0fa82759716896",
            "value": " 436M/436M [00:04&lt;00:00, 94.8MB/s]"
          }
        },
        "d1e97e6be31a4f7db24cbb73a9a5e0ef": {
          "model_module": "@jupyter-widgets/controls",
          "model_module_version": "1.5.0",
          "model_name": "ProgressStyleModel",
          "state": {
            "_model_module": "@jupyter-widgets/controls",
            "_model_module_version": "1.5.0",
            "_model_name": "ProgressStyleModel",
            "_view_count": null,
            "_view_module": "@jupyter-widgets/base",
            "_view_module_version": "1.2.0",
            "_view_name": "StyleView",
            "bar_color": null,
            "description_width": ""
          }
        },
        "d3bd5345f8434fb7a96d2ca47becb676": {
          "model_module": "@jupyter-widgets/base",
          "model_module_version": "1.2.0",
          "model_name": "LayoutModel",
          "state": {
            "_model_module": "@jupyter-widgets/base",
            "_model_module_version": "1.2.0",
            "_model_name": "LayoutModel",
            "_view_count": null,
            "_view_module": "@jupyter-widgets/base",
            "_view_module_version": "1.2.0",
            "_view_name": "LayoutView",
            "align_content": null,
            "align_items": null,
            "align_self": null,
            "border": null,
            "bottom": null,
            "display": null,
            "flex": null,
            "flex_flow": null,
            "grid_area": null,
            "grid_auto_columns": null,
            "grid_auto_flow": null,
            "grid_auto_rows": null,
            "grid_column": null,
            "grid_gap": null,
            "grid_row": null,
            "grid_template_areas": null,
            "grid_template_columns": null,
            "grid_template_rows": null,
            "height": null,
            "justify_content": null,
            "justify_items": null,
            "left": null,
            "margin": null,
            "max_height": null,
            "max_width": null,
            "min_height": null,
            "min_width": null,
            "object_fit": null,
            "object_position": null,
            "order": null,
            "overflow": null,
            "overflow_x": null,
            "overflow_y": null,
            "padding": null,
            "right": null,
            "top": null,
            "visibility": null,
            "width": null
          }
        },
        "db9e92b886b44a93a0f0f55ba646febc": {
          "model_module": "@jupyter-widgets/controls",
          "model_module_version": "1.5.0",
          "model_name": "ProgressStyleModel",
          "state": {
            "_model_module": "@jupyter-widgets/controls",
            "_model_module_version": "1.5.0",
            "_model_name": "ProgressStyleModel",
            "_view_count": null,
            "_view_module": "@jupyter-widgets/base",
            "_view_module_version": "1.2.0",
            "_view_name": "StyleView",
            "bar_color": null,
            "description_width": ""
          }
        },
        "e1870bf48ba8402a883bc29ed6b7ab50": {
          "model_module": "@jupyter-widgets/controls",
          "model_module_version": "1.5.0",
          "model_name": "HBoxModel",
          "state": {
            "_dom_classes": [],
            "_model_module": "@jupyter-widgets/controls",
            "_model_module_version": "1.5.0",
            "_model_name": "HBoxModel",
            "_view_count": null,
            "_view_module": "@jupyter-widgets/controls",
            "_view_module_version": "1.5.0",
            "_view_name": "HBoxView",
            "box_style": "",
            "children": [
              "IPY_MODEL_08ebb5d9872e42a7b24a27ebce0a61c3",
              "IPY_MODEL_2e5a7bf725b64efaa1e29bdecf8b87b0",
              "IPY_MODEL_c9be6e9a0e8d4f1aa13b8114f7b6225b"
            ],
            "layout": "IPY_MODEL_82a3f81ff35d443d8db003221ab4458b"
          }
        },
        "eb0a95021be4444ba16b48f808a7ab97": {
          "model_module": "@jupyter-widgets/controls",
          "model_module_version": "1.5.0",
          "model_name": "DescriptionStyleModel",
          "state": {
            "_model_module": "@jupyter-widgets/controls",
            "_model_module_version": "1.5.0",
            "_model_name": "DescriptionStyleModel",
            "_view_count": null,
            "_view_module": "@jupyter-widgets/base",
            "_view_module_version": "1.2.0",
            "_view_name": "StyleView",
            "description_width": ""
          }
        },
        "ec91d1b9b0134e04a4662952b0c77cfc": {
          "model_module": "@jupyter-widgets/base",
          "model_module_version": "1.2.0",
          "model_name": "LayoutModel",
          "state": {
            "_model_module": "@jupyter-widgets/base",
            "_model_module_version": "1.2.0",
            "_model_name": "LayoutModel",
            "_view_count": null,
            "_view_module": "@jupyter-widgets/base",
            "_view_module_version": "1.2.0",
            "_view_name": "LayoutView",
            "align_content": null,
            "align_items": null,
            "align_self": null,
            "border": null,
            "bottom": null,
            "display": null,
            "flex": null,
            "flex_flow": null,
            "grid_area": null,
            "grid_auto_columns": null,
            "grid_auto_flow": null,
            "grid_auto_rows": null,
            "grid_column": null,
            "grid_gap": null,
            "grid_row": null,
            "grid_template_areas": null,
            "grid_template_columns": null,
            "grid_template_rows": null,
            "height": null,
            "justify_content": null,
            "justify_items": null,
            "left": null,
            "margin": null,
            "max_height": null,
            "max_width": null,
            "min_height": null,
            "min_width": null,
            "object_fit": null,
            "object_position": null,
            "order": null,
            "overflow": null,
            "overflow_x": null,
            "overflow_y": null,
            "padding": null,
            "right": null,
            "top": null,
            "visibility": null,
            "width": null
          }
        },
        "f38e3f2f9d6f4688810e6e7ce02b1e62": {
          "model_module": "@jupyter-widgets/controls",
          "model_module_version": "1.5.0",
          "model_name": "DescriptionStyleModel",
          "state": {
            "_model_module": "@jupyter-widgets/controls",
            "_model_module_version": "1.5.0",
            "_model_name": "DescriptionStyleModel",
            "_view_count": null,
            "_view_module": "@jupyter-widgets/base",
            "_view_module_version": "1.2.0",
            "_view_name": "StyleView",
            "description_width": ""
          }
        },
        "f3f3c09eec174c62a09baffa2b196c93": {
          "model_module": "@jupyter-widgets/controls",
          "model_module_version": "1.5.0",
          "model_name": "HTMLModel",
          "state": {
            "_dom_classes": [],
            "_model_module": "@jupyter-widgets/controls",
            "_model_module_version": "1.5.0",
            "_model_name": "HTMLModel",
            "_view_count": null,
            "_view_module": "@jupyter-widgets/controls",
            "_view_module_version": "1.5.0",
            "_view_name": "HTMLView",
            "description": "",
            "description_tooltip": null,
            "layout": "IPY_MODEL_28487c3b419d48cfab1b8ff34f10adc9",
            "placeholder": "​",
            "style": "IPY_MODEL_eb0a95021be4444ba16b48f808a7ab97",
            "value": "Epochs 0/1. Running Loss:    0.5036:  57%"
          }
        },
        "f56f272a704d4d8090e9daa6b9b5ae4d": {
          "model_module": "@jupyter-widgets/base",
          "model_module_version": "1.2.0",
          "model_name": "LayoutModel",
          "state": {
            "_model_module": "@jupyter-widgets/base",
            "_model_module_version": "1.2.0",
            "_model_name": "LayoutModel",
            "_view_count": null,
            "_view_module": "@jupyter-widgets/base",
            "_view_module_version": "1.2.0",
            "_view_name": "LayoutView",
            "align_content": null,
            "align_items": null,
            "align_self": null,
            "border": null,
            "bottom": null,
            "display": null,
            "flex": null,
            "flex_flow": null,
            "grid_area": null,
            "grid_auto_columns": null,
            "grid_auto_flow": null,
            "grid_auto_rows": null,
            "grid_column": null,
            "grid_gap": null,
            "grid_row": null,
            "grid_template_areas": null,
            "grid_template_columns": null,
            "grid_template_rows": null,
            "height": null,
            "justify_content": null,
            "justify_items": null,
            "left": null,
            "margin": null,
            "max_height": null,
            "max_width": null,
            "min_height": null,
            "min_width": null,
            "object_fit": null,
            "object_position": null,
            "order": null,
            "overflow": null,
            "overflow_x": null,
            "overflow_y": null,
            "padding": null,
            "right": null,
            "top": null,
            "visibility": null,
            "width": null
          }
        },
        "f5fcf84ef8a44937b2c42ccc097d4bf4": {
          "model_module": "@jupyter-widgets/controls",
          "model_module_version": "1.5.0",
          "model_name": "DescriptionStyleModel",
          "state": {
            "_model_module": "@jupyter-widgets/controls",
            "_model_module_version": "1.5.0",
            "_model_name": "DescriptionStyleModel",
            "_view_count": null,
            "_view_module": "@jupyter-widgets/base",
            "_view_module_version": "1.2.0",
            "_view_name": "StyleView",
            "description_width": ""
          }
        },
        "f6a875201dae461d8751024238add018": {
          "model_module": "@jupyter-widgets/controls",
          "model_module_version": "1.5.0",
          "model_name": "DescriptionStyleModel",
          "state": {
            "_model_module": "@jupyter-widgets/controls",
            "_model_module_version": "1.5.0",
            "_model_name": "DescriptionStyleModel",
            "_view_count": null,
            "_view_module": "@jupyter-widgets/base",
            "_view_module_version": "1.2.0",
            "_view_name": "StyleView",
            "description_width": ""
          }
        },
        "fb1b0a2e7a8947d28c70906ccf48b365": {
          "model_module": "@jupyter-widgets/controls",
          "model_module_version": "1.5.0",
          "model_name": "DescriptionStyleModel",
          "state": {
            "_model_module": "@jupyter-widgets/controls",
            "_model_module_version": "1.5.0",
            "_model_name": "DescriptionStyleModel",
            "_view_count": null,
            "_view_module": "@jupyter-widgets/base",
            "_view_module_version": "1.2.0",
            "_view_name": "StyleView",
            "description_width": ""
          }
        }
      }
    }
  },
  "nbformat": 4,
  "nbformat_minor": 0
}